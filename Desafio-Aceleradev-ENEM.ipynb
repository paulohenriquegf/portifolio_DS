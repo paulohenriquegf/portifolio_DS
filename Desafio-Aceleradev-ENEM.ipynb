{
  "nbformat": 4,
  "nbformat_minor": 0,
  "metadata": {
    "colab": {
      "name": "Enem_matematica.ipynb",
      "provenance": [],
      "collapsed_sections": [
        "XqZBb8ooyBgc",
        "RoTasTJB0Nrv",
        "47DpJgM19DUk"
      ],
      "include_colab_link": true
    },
    "kernelspec": {
      "name": "python3",
      "display_name": "Python 3"
    }
  },
  "cells": [
    {
      "cell_type": "markdown",
      "metadata": {
        "id": "view-in-github",
        "colab_type": "text"
      },
      "source": [
        "<a href=\"https://colab.research.google.com/github/paulohenriquegf/portifolio_DS/blob/master/Desafio-Aceleradev-ENEM.ipynb\" target=\"_parent\"><img src=\"https://colab.research.google.com/assets/colab-badge.svg\" alt=\"Open In Colab\"/></a>"
      ]
    },
    {
      "cell_type": "markdown",
      "metadata": {
        "id": "xJyxR1Hg7Nal",
        "colab_type": "text"
      },
      "source": [
        "Desafio proposto pela Codenation - AceleraDev Data Science, com nota de corte de 90%, que consistia em criar um modelo para prever a nota da prova de matemática de quem participou do ENEM 2016.\n",
        "\n",
        "Com este projeto, consegui a nota de 93,49%."
      ]
    },
    {
      "cell_type": "markdown",
      "metadata": {
        "id": "38UzU2u97yRk",
        "colab_type": "text"
      },
      "source": [
        "Importando as bibliotecas python que serão utilizadas."
      ]
    },
    {
      "cell_type": "code",
      "metadata": {
        "id": "GoOxaHYvW4wk",
        "colab_type": "code",
        "colab": {
          "base_uri": "https://localhost:8080/",
          "height": 71
        },
        "outputId": "6fe37f9d-172d-4a88-86fb-f21d2c4f685e"
      },
      "source": [
        "import pandas as pd\n",
        "import numpy as np\n",
        "from matplotlib import pyplot as plt\n",
        "import seaborn as sns\n"
      ],
      "execution_count": null,
      "outputs": [
        {
          "output_type": "stream",
          "text": [
            "/usr/local/lib/python3.6/dist-packages/statsmodels/tools/_testing.py:19: FutureWarning: pandas.util.testing is deprecated. Use the functions in the public API at pandas.testing instead.\n",
            "  import pandas.util.testing as tm\n"
          ],
          "name": "stderr"
        }
      ]
    },
    {
      "cell_type": "markdown",
      "metadata": {
        "id": "CVxHp9SK7_Eo",
        "colab_type": "text"
      },
      "source": [
        "Importando o arquivo com a biblioteca pandas"
      ]
    },
    {
      "cell_type": "code",
      "metadata": {
        "id": "K4YhfeGTXdhT",
        "colab_type": "code",
        "colab": {}
      },
      "source": [
        "arquivo = '/content/drive/My Drive/Data Science/Projetos DS/Codenation/testfiles/train.csv'\n",
        "\n",
        "df = pd.read_csv(arquivo)"
      ],
      "execution_count": null,
      "outputs": []
    },
    {
      "cell_type": "markdown",
      "metadata": {
        "id": "LGYecy0R-Lxc",
        "colab_type": "text"
      },
      "source": [
        "Conferindo a quantidade de linhas e colunas (13730 linhas e 167 colunas)"
      ]
    },
    {
      "cell_type": "code",
      "metadata": {
        "id": "Y4W1MBxR-CAK",
        "colab_type": "code",
        "colab": {
          "base_uri": "https://localhost:8080/",
          "height": 34
        },
        "outputId": "3aa05892-ac4e-4a6e-e000-edfaa8812d4d"
      },
      "source": [
        "df.shape"
      ],
      "execution_count": null,
      "outputs": [
        {
          "output_type": "execute_result",
          "data": {
            "text/plain": [
              "(13730, 167)"
            ]
          },
          "metadata": {
            "tags": []
          },
          "execution_count": 3
        }
      ]
    },
    {
      "cell_type": "markdown",
      "metadata": {
        "id": "HHkuTQdG-Mj_",
        "colab_type": "text"
      },
      "source": [
        "Verificando como o dataset foi importado"
      ]
    },
    {
      "cell_type": "code",
      "metadata": {
        "id": "gMWr5QZk-SIk",
        "colab_type": "code",
        "colab": {
          "base_uri": "https://localhost:8080/",
          "height": 270
        },
        "outputId": "e729223a-7aa9-4445-fb51-7a10edfa8fe1"
      },
      "source": [
        "df.head()"
      ],
      "execution_count": null,
      "outputs": [
        {
          "output_type": "execute_result",
          "data": {
            "text/html": [
              "<div>\n",
              "<style scoped>\n",
              "    .dataframe tbody tr th:only-of-type {\n",
              "        vertical-align: middle;\n",
              "    }\n",
              "\n",
              "    .dataframe tbody tr th {\n",
              "        vertical-align: top;\n",
              "    }\n",
              "\n",
              "    .dataframe thead th {\n",
              "        text-align: right;\n",
              "    }\n",
              "</style>\n",
              "<table border=\"1\" class=\"dataframe\">\n",
              "  <thead>\n",
              "    <tr style=\"text-align: right;\">\n",
              "      <th></th>\n",
              "      <th>Unnamed: 0</th>\n",
              "      <th>NU_INSCRICAO</th>\n",
              "      <th>NU_ANO</th>\n",
              "      <th>CO_MUNICIPIO_RESIDENCIA</th>\n",
              "      <th>NO_MUNICIPIO_RESIDENCIA</th>\n",
              "      <th>CO_UF_RESIDENCIA</th>\n",
              "      <th>SG_UF_RESIDENCIA</th>\n",
              "      <th>NU_IDADE</th>\n",
              "      <th>TP_SEXO</th>\n",
              "      <th>TP_ESTADO_CIVIL</th>\n",
              "      <th>TP_COR_RACA</th>\n",
              "      <th>TP_NACIONALIDADE</th>\n",
              "      <th>CO_MUNICIPIO_NASCIMENTO</th>\n",
              "      <th>NO_MUNICIPIO_NASCIMENTO</th>\n",
              "      <th>CO_UF_NASCIMENTO</th>\n",
              "      <th>SG_UF_NASCIMENTO</th>\n",
              "      <th>TP_ST_CONCLUSAO</th>\n",
              "      <th>TP_ANO_CONCLUIU</th>\n",
              "      <th>TP_ESCOLA</th>\n",
              "      <th>TP_ENSINO</th>\n",
              "      <th>IN_TREINEIRO</th>\n",
              "      <th>CO_ESCOLA</th>\n",
              "      <th>CO_MUNICIPIO_ESC</th>\n",
              "      <th>NO_MUNICIPIO_ESC</th>\n",
              "      <th>CO_UF_ESC</th>\n",
              "      <th>SG_UF_ESC</th>\n",
              "      <th>TP_DEPENDENCIA_ADM_ESC</th>\n",
              "      <th>TP_LOCALIZACAO_ESC</th>\n",
              "      <th>TP_SIT_FUNC_ESC</th>\n",
              "      <th>IN_BAIXA_VISAO</th>\n",
              "      <th>IN_CEGUEIRA</th>\n",
              "      <th>IN_SURDEZ</th>\n",
              "      <th>IN_DEFICIENCIA_AUDITIVA</th>\n",
              "      <th>IN_SURDO_CEGUEIRA</th>\n",
              "      <th>IN_DEFICIENCIA_FISICA</th>\n",
              "      <th>IN_DEFICIENCIA_MENTAL</th>\n",
              "      <th>IN_DEFICIT_ATENCAO</th>\n",
              "      <th>IN_DISLEXIA</th>\n",
              "      <th>IN_DISCALCULIA</th>\n",
              "      <th>IN_AUTISMO</th>\n",
              "      <th>...</th>\n",
              "      <th>Q011</th>\n",
              "      <th>Q012</th>\n",
              "      <th>Q013</th>\n",
              "      <th>Q014</th>\n",
              "      <th>Q015</th>\n",
              "      <th>Q016</th>\n",
              "      <th>Q017</th>\n",
              "      <th>Q018</th>\n",
              "      <th>Q019</th>\n",
              "      <th>Q020</th>\n",
              "      <th>Q021</th>\n",
              "      <th>Q022</th>\n",
              "      <th>Q023</th>\n",
              "      <th>Q024</th>\n",
              "      <th>Q025</th>\n",
              "      <th>Q026</th>\n",
              "      <th>Q027</th>\n",
              "      <th>Q028</th>\n",
              "      <th>Q029</th>\n",
              "      <th>Q030</th>\n",
              "      <th>Q031</th>\n",
              "      <th>Q032</th>\n",
              "      <th>Q033</th>\n",
              "      <th>Q034</th>\n",
              "      <th>Q035</th>\n",
              "      <th>Q036</th>\n",
              "      <th>Q037</th>\n",
              "      <th>Q038</th>\n",
              "      <th>Q039</th>\n",
              "      <th>Q040</th>\n",
              "      <th>Q041</th>\n",
              "      <th>Q042</th>\n",
              "      <th>Q043</th>\n",
              "      <th>Q044</th>\n",
              "      <th>Q045</th>\n",
              "      <th>Q046</th>\n",
              "      <th>Q047</th>\n",
              "      <th>Q048</th>\n",
              "      <th>Q049</th>\n",
              "      <th>Q050</th>\n",
              "    </tr>\n",
              "  </thead>\n",
              "  <tbody>\n",
              "    <tr>\n",
              "      <th>0</th>\n",
              "      <td>1</td>\n",
              "      <td>ed50e8aaa58e7a806c337585efee9ca41f1eb1ad</td>\n",
              "      <td>2016</td>\n",
              "      <td>4314902</td>\n",
              "      <td>Porto Alegre</td>\n",
              "      <td>43</td>\n",
              "      <td>RS</td>\n",
              "      <td>24</td>\n",
              "      <td>M</td>\n",
              "      <td>0.0</td>\n",
              "      <td>1</td>\n",
              "      <td>1</td>\n",
              "      <td>4314902.0</td>\n",
              "      <td>Porto Alegre</td>\n",
              "      <td>43.0</td>\n",
              "      <td>RS</td>\n",
              "      <td>1</td>\n",
              "      <td>4</td>\n",
              "      <td>1</td>\n",
              "      <td>NaN</td>\n",
              "      <td>0</td>\n",
              "      <td>NaN</td>\n",
              "      <td>NaN</td>\n",
              "      <td>NaN</td>\n",
              "      <td>NaN</td>\n",
              "      <td>NaN</td>\n",
              "      <td>NaN</td>\n",
              "      <td>NaN</td>\n",
              "      <td>NaN</td>\n",
              "      <td>0</td>\n",
              "      <td>0</td>\n",
              "      <td>0</td>\n",
              "      <td>0</td>\n",
              "      <td>0</td>\n",
              "      <td>0</td>\n",
              "      <td>0</td>\n",
              "      <td>0</td>\n",
              "      <td>0</td>\n",
              "      <td>0</td>\n",
              "      <td>0</td>\n",
              "      <td>...</td>\n",
              "      <td>A</td>\n",
              "      <td>B</td>\n",
              "      <td>A</td>\n",
              "      <td>A</td>\n",
              "      <td>A</td>\n",
              "      <td>A</td>\n",
              "      <td>A</td>\n",
              "      <td>A</td>\n",
              "      <td>B</td>\n",
              "      <td>A</td>\n",
              "      <td>A</td>\n",
              "      <td>C</td>\n",
              "      <td>A</td>\n",
              "      <td>A</td>\n",
              "      <td>A</td>\n",
              "      <td>C</td>\n",
              "      <td>H</td>\n",
              "      <td>E</td>\n",
              "      <td>5.0</td>\n",
              "      <td>5.0</td>\n",
              "      <td>1.0</td>\n",
              "      <td>0.0</td>\n",
              "      <td>0.0</td>\n",
              "      <td>5</td>\n",
              "      <td>5</td>\n",
              "      <td>0</td>\n",
              "      <td>5</td>\n",
              "      <td>5</td>\n",
              "      <td>5</td>\n",
              "      <td>5</td>\n",
              "      <td>5.0</td>\n",
              "      <td>A</td>\n",
              "      <td>A</td>\n",
              "      <td>A</td>\n",
              "      <td>A</td>\n",
              "      <td>A</td>\n",
              "      <td>A</td>\n",
              "      <td>A</td>\n",
              "      <td>B</td>\n",
              "      <td>D</td>\n",
              "    </tr>\n",
              "    <tr>\n",
              "      <th>1</th>\n",
              "      <td>2</td>\n",
              "      <td>2c3acac4b33ec2b195d77e7c04a2d75727fad723</td>\n",
              "      <td>2016</td>\n",
              "      <td>2304707</td>\n",
              "      <td>Granja</td>\n",
              "      <td>23</td>\n",
              "      <td>CE</td>\n",
              "      <td>17</td>\n",
              "      <td>F</td>\n",
              "      <td>0.0</td>\n",
              "      <td>3</td>\n",
              "      <td>1</td>\n",
              "      <td>2304707.0</td>\n",
              "      <td>Granja</td>\n",
              "      <td>23.0</td>\n",
              "      <td>CE</td>\n",
              "      <td>2</td>\n",
              "      <td>0</td>\n",
              "      <td>2</td>\n",
              "      <td>1.0</td>\n",
              "      <td>0</td>\n",
              "      <td>23005157.0</td>\n",
              "      <td>2304707.0</td>\n",
              "      <td>Granja</td>\n",
              "      <td>23.0</td>\n",
              "      <td>CE</td>\n",
              "      <td>2.0</td>\n",
              "      <td>1.0</td>\n",
              "      <td>1.0</td>\n",
              "      <td>0</td>\n",
              "      <td>0</td>\n",
              "      <td>0</td>\n",
              "      <td>0</td>\n",
              "      <td>0</td>\n",
              "      <td>0</td>\n",
              "      <td>0</td>\n",
              "      <td>0</td>\n",
              "      <td>0</td>\n",
              "      <td>0</td>\n",
              "      <td>0</td>\n",
              "      <td>...</td>\n",
              "      <td>A</td>\n",
              "      <td>B</td>\n",
              "      <td>A</td>\n",
              "      <td>A</td>\n",
              "      <td>A</td>\n",
              "      <td>A</td>\n",
              "      <td>A</td>\n",
              "      <td>A</td>\n",
              "      <td>B</td>\n",
              "      <td>A</td>\n",
              "      <td>A</td>\n",
              "      <td>A</td>\n",
              "      <td>A</td>\n",
              "      <td>A</td>\n",
              "      <td>A</td>\n",
              "      <td>A</td>\n",
              "      <td>NaN</td>\n",
              "      <td>NaN</td>\n",
              "      <td>NaN</td>\n",
              "      <td>NaN</td>\n",
              "      <td>NaN</td>\n",
              "      <td>NaN</td>\n",
              "      <td>NaN</td>\n",
              "      <td>5</td>\n",
              "      <td>5</td>\n",
              "      <td>1</td>\n",
              "      <td>1</td>\n",
              "      <td>1</td>\n",
              "      <td>1</td>\n",
              "      <td>1</td>\n",
              "      <td>NaN</td>\n",
              "      <td>A</td>\n",
              "      <td>A</td>\n",
              "      <td>C</td>\n",
              "      <td>A</td>\n",
              "      <td>B</td>\n",
              "      <td>A</td>\n",
              "      <td>A</td>\n",
              "      <td>C</td>\n",
              "      <td>A</td>\n",
              "    </tr>\n",
              "    <tr>\n",
              "      <th>2</th>\n",
              "      <td>3</td>\n",
              "      <td>f4545f8ccb9ff5c8aad7d32951b3f251a26e6568</td>\n",
              "      <td>2016</td>\n",
              "      <td>2304400</td>\n",
              "      <td>Fortaleza</td>\n",
              "      <td>23</td>\n",
              "      <td>CE</td>\n",
              "      <td>21</td>\n",
              "      <td>F</td>\n",
              "      <td>0.0</td>\n",
              "      <td>3</td>\n",
              "      <td>1</td>\n",
              "      <td>2304400.0</td>\n",
              "      <td>Fortaleza</td>\n",
              "      <td>23.0</td>\n",
              "      <td>CE</td>\n",
              "      <td>3</td>\n",
              "      <td>0</td>\n",
              "      <td>1</td>\n",
              "      <td>NaN</td>\n",
              "      <td>0</td>\n",
              "      <td>NaN</td>\n",
              "      <td>NaN</td>\n",
              "      <td>NaN</td>\n",
              "      <td>NaN</td>\n",
              "      <td>NaN</td>\n",
              "      <td>NaN</td>\n",
              "      <td>NaN</td>\n",
              "      <td>NaN</td>\n",
              "      <td>0</td>\n",
              "      <td>0</td>\n",
              "      <td>0</td>\n",
              "      <td>0</td>\n",
              "      <td>0</td>\n",
              "      <td>0</td>\n",
              "      <td>0</td>\n",
              "      <td>0</td>\n",
              "      <td>0</td>\n",
              "      <td>0</td>\n",
              "      <td>0</td>\n",
              "      <td>...</td>\n",
              "      <td>A</td>\n",
              "      <td>B</td>\n",
              "      <td>A</td>\n",
              "      <td>A</td>\n",
              "      <td>A</td>\n",
              "      <td>A</td>\n",
              "      <td>A</td>\n",
              "      <td>A</td>\n",
              "      <td>B</td>\n",
              "      <td>A</td>\n",
              "      <td>A</td>\n",
              "      <td>B</td>\n",
              "      <td>A</td>\n",
              "      <td>A</td>\n",
              "      <td>A</td>\n",
              "      <td>A</td>\n",
              "      <td>NaN</td>\n",
              "      <td>NaN</td>\n",
              "      <td>NaN</td>\n",
              "      <td>NaN</td>\n",
              "      <td>NaN</td>\n",
              "      <td>NaN</td>\n",
              "      <td>NaN</td>\n",
              "      <td>5</td>\n",
              "      <td>5</td>\n",
              "      <td>5</td>\n",
              "      <td>5</td>\n",
              "      <td>5</td>\n",
              "      <td>5</td>\n",
              "      <td>5</td>\n",
              "      <td>NaN</td>\n",
              "      <td>A</td>\n",
              "      <td>A</td>\n",
              "      <td>A</td>\n",
              "      <td>A</td>\n",
              "      <td>C</td>\n",
              "      <td>A</td>\n",
              "      <td>A</td>\n",
              "      <td>B</td>\n",
              "      <td>A</td>\n",
              "    </tr>\n",
              "    <tr>\n",
              "      <th>3</th>\n",
              "      <td>4</td>\n",
              "      <td>3d6ec248fef899c414e77f82d5c6d2bffbeaf7fe</td>\n",
              "      <td>2016</td>\n",
              "      <td>3304557</td>\n",
              "      <td>Rio de Janeiro</td>\n",
              "      <td>33</td>\n",
              "      <td>RJ</td>\n",
              "      <td>25</td>\n",
              "      <td>F</td>\n",
              "      <td>0.0</td>\n",
              "      <td>0</td>\n",
              "      <td>1</td>\n",
              "      <td>3304557.0</td>\n",
              "      <td>Rio de Janeiro</td>\n",
              "      <td>33.0</td>\n",
              "      <td>RJ</td>\n",
              "      <td>1</td>\n",
              "      <td>9</td>\n",
              "      <td>1</td>\n",
              "      <td>NaN</td>\n",
              "      <td>0</td>\n",
              "      <td>NaN</td>\n",
              "      <td>NaN</td>\n",
              "      <td>NaN</td>\n",
              "      <td>NaN</td>\n",
              "      <td>NaN</td>\n",
              "      <td>NaN</td>\n",
              "      <td>NaN</td>\n",
              "      <td>NaN</td>\n",
              "      <td>0</td>\n",
              "      <td>0</td>\n",
              "      <td>0</td>\n",
              "      <td>0</td>\n",
              "      <td>0</td>\n",
              "      <td>0</td>\n",
              "      <td>0</td>\n",
              "      <td>0</td>\n",
              "      <td>0</td>\n",
              "      <td>0</td>\n",
              "      <td>0</td>\n",
              "      <td>...</td>\n",
              "      <td>A</td>\n",
              "      <td>B</td>\n",
              "      <td>B</td>\n",
              "      <td>B</td>\n",
              "      <td>A</td>\n",
              "      <td>B</td>\n",
              "      <td>A</td>\n",
              "      <td>B</td>\n",
              "      <td>C</td>\n",
              "      <td>A</td>\n",
              "      <td>B</td>\n",
              "      <td>D</td>\n",
              "      <td>B</td>\n",
              "      <td>C</td>\n",
              "      <td>B</td>\n",
              "      <td>C</td>\n",
              "      <td>F</td>\n",
              "      <td>C</td>\n",
              "      <td>2.0</td>\n",
              "      <td>0.0</td>\n",
              "      <td>5.0</td>\n",
              "      <td>5.0</td>\n",
              "      <td>5.0</td>\n",
              "      <td>5</td>\n",
              "      <td>5</td>\n",
              "      <td>5</td>\n",
              "      <td>5</td>\n",
              "      <td>2</td>\n",
              "      <td>5</td>\n",
              "      <td>5</td>\n",
              "      <td>5.0</td>\n",
              "      <td>C</td>\n",
              "      <td>A</td>\n",
              "      <td>A</td>\n",
              "      <td>A</td>\n",
              "      <td>A</td>\n",
              "      <td>D</td>\n",
              "      <td>A</td>\n",
              "      <td>A</td>\n",
              "      <td>A</td>\n",
              "    </tr>\n",
              "    <tr>\n",
              "      <th>4</th>\n",
              "      <td>5</td>\n",
              "      <td>bf896ac8d3ecadd6dba1dfbf50110afcbf5d3268</td>\n",
              "      <td>2016</td>\n",
              "      <td>1302603</td>\n",
              "      <td>Manaus</td>\n",
              "      <td>13</td>\n",
              "      <td>AM</td>\n",
              "      <td>28</td>\n",
              "      <td>M</td>\n",
              "      <td>0.0</td>\n",
              "      <td>2</td>\n",
              "      <td>1</td>\n",
              "      <td>1505304.0</td>\n",
              "      <td>Oriximiná</td>\n",
              "      <td>15.0</td>\n",
              "      <td>PA</td>\n",
              "      <td>1</td>\n",
              "      <td>4</td>\n",
              "      <td>1</td>\n",
              "      <td>NaN</td>\n",
              "      <td>0</td>\n",
              "      <td>NaN</td>\n",
              "      <td>NaN</td>\n",
              "      <td>NaN</td>\n",
              "      <td>NaN</td>\n",
              "      <td>NaN</td>\n",
              "      <td>NaN</td>\n",
              "      <td>NaN</td>\n",
              "      <td>NaN</td>\n",
              "      <td>0</td>\n",
              "      <td>0</td>\n",
              "      <td>0</td>\n",
              "      <td>0</td>\n",
              "      <td>0</td>\n",
              "      <td>0</td>\n",
              "      <td>0</td>\n",
              "      <td>0</td>\n",
              "      <td>0</td>\n",
              "      <td>0</td>\n",
              "      <td>0</td>\n",
              "      <td>...</td>\n",
              "      <td>A</td>\n",
              "      <td>B</td>\n",
              "      <td>A</td>\n",
              "      <td>B</td>\n",
              "      <td>A</td>\n",
              "      <td>A</td>\n",
              "      <td>A</td>\n",
              "      <td>A</td>\n",
              "      <td>B</td>\n",
              "      <td>A</td>\n",
              "      <td>A</td>\n",
              "      <td>B</td>\n",
              "      <td>A</td>\n",
              "      <td>A</td>\n",
              "      <td>A</td>\n",
              "      <td>B</td>\n",
              "      <td>F</td>\n",
              "      <td>D</td>\n",
              "      <td>5.0</td>\n",
              "      <td>4.0</td>\n",
              "      <td>3.0</td>\n",
              "      <td>5.0</td>\n",
              "      <td>4.0</td>\n",
              "      <td>5</td>\n",
              "      <td>5</td>\n",
              "      <td>4</td>\n",
              "      <td>3</td>\n",
              "      <td>1</td>\n",
              "      <td>4</td>\n",
              "      <td>5</td>\n",
              "      <td>NaN</td>\n",
              "      <td>A</td>\n",
              "      <td>A</td>\n",
              "      <td>A</td>\n",
              "      <td>A</td>\n",
              "      <td>A</td>\n",
              "      <td>A</td>\n",
              "      <td>A</td>\n",
              "      <td>A</td>\n",
              "      <td>A</td>\n",
              "    </tr>\n",
              "  </tbody>\n",
              "</table>\n",
              "<p>5 rows × 167 columns</p>\n",
              "</div>"
            ],
            "text/plain": [
              "   Unnamed: 0                              NU_INSCRICAO  ...  Q049  Q050\n",
              "0           1  ed50e8aaa58e7a806c337585efee9ca41f1eb1ad  ...     B     D\n",
              "1           2  2c3acac4b33ec2b195d77e7c04a2d75727fad723  ...     C     A\n",
              "2           3  f4545f8ccb9ff5c8aad7d32951b3f251a26e6568  ...     B     A\n",
              "3           4  3d6ec248fef899c414e77f82d5c6d2bffbeaf7fe  ...     A     A\n",
              "4           5  bf896ac8d3ecadd6dba1dfbf50110afcbf5d3268  ...     A     A\n",
              "\n",
              "[5 rows x 167 columns]"
            ]
          },
          "metadata": {
            "tags": []
          },
          "execution_count": 4
        }
      ]
    },
    {
      "cell_type": "markdown",
      "metadata": {
        "id": "vbTcVhj28O9u",
        "colab_type": "text"
      },
      "source": [
        "Definindo as features que serão utilizadas no modelo"
      ]
    },
    {
      "cell_type": "code",
      "metadata": {
        "id": "D0ivBSPWY-No",
        "colab_type": "code",
        "colab": {}
      },
      "source": [
        "nota = df[['NU_INSCRICAO','NU_NOTA_MT','NU_NOTA_CN','NU_NOTA_CH','NU_NOTA_LC','NU_NOTA_REDACAO','NU_NOTA_COMP1','NU_NOTA_COMP2','NU_NOTA_COMP3','NU_NOTA_COMP4','NU_NOTA_COMP5']]"
      ],
      "execution_count": null,
      "outputs": []
    },
    {
      "cell_type": "markdown",
      "metadata": {
        "id": "eBHAfb998VhT",
        "colab_type": "text"
      },
      "source": [
        "Conferindo a correlação das features com a nota de Matemática"
      ]
    },
    {
      "cell_type": "code",
      "metadata": {
        "id": "45etzIegjFtz",
        "colab_type": "code",
        "colab": {
          "base_uri": "https://localhost:8080/",
          "height": 270
        },
        "outputId": "65da884e-2d36-45d4-bdee-df95748dd5b2"
      },
      "source": [
        "corr = nota.corr()\n",
        "corr.style.background_gradient(cmap='coolwarm')"
      ],
      "execution_count": null,
      "outputs": [
        {
          "output_type": "execute_result",
          "data": {
            "text/html": [
              "<style  type=\"text/css\" >\n",
              "    #T_6ae760aa_a9d5_11ea_bfc7_0242ac1c0002row0_col0 {\n",
              "            background-color:  #b40426;\n",
              "            color:  #f1f1f1;\n",
              "        }    #T_6ae760aa_a9d5_11ea_bfc7_0242ac1c0002row0_col1 {\n",
              "            background-color:  #b1cbfc;\n",
              "            color:  #000000;\n",
              "        }    #T_6ae760aa_a9d5_11ea_bfc7_0242ac1c0002row0_col2 {\n",
              "            background-color:  #6b8df0;\n",
              "            color:  #000000;\n",
              "        }    #T_6ae760aa_a9d5_11ea_bfc7_0242ac1c0002row0_col3 {\n",
              "            background-color:  #5d7ce6;\n",
              "            color:  #000000;\n",
              "        }    #T_6ae760aa_a9d5_11ea_bfc7_0242ac1c0002row0_col4 {\n",
              "            background-color:  #3b4cc0;\n",
              "            color:  #f1f1f1;\n",
              "        }    #T_6ae760aa_a9d5_11ea_bfc7_0242ac1c0002row0_col5 {\n",
              "            background-color:  #3b4cc0;\n",
              "            color:  #f1f1f1;\n",
              "        }    #T_6ae760aa_a9d5_11ea_bfc7_0242ac1c0002row0_col6 {\n",
              "            background-color:  #3b4cc0;\n",
              "            color:  #f1f1f1;\n",
              "        }    #T_6ae760aa_a9d5_11ea_bfc7_0242ac1c0002row0_col7 {\n",
              "            background-color:  #3b4cc0;\n",
              "            color:  #f1f1f1;\n",
              "        }    #T_6ae760aa_a9d5_11ea_bfc7_0242ac1c0002row0_col8 {\n",
              "            background-color:  #3b4cc0;\n",
              "            color:  #f1f1f1;\n",
              "        }    #T_6ae760aa_a9d5_11ea_bfc7_0242ac1c0002row0_col9 {\n",
              "            background-color:  #3b4cc0;\n",
              "            color:  #f1f1f1;\n",
              "        }    #T_6ae760aa_a9d5_11ea_bfc7_0242ac1c0002row1_col0 {\n",
              "            background-color:  #c3d5f4;\n",
              "            color:  #000000;\n",
              "        }    #T_6ae760aa_a9d5_11ea_bfc7_0242ac1c0002row1_col1 {\n",
              "            background-color:  #b40426;\n",
              "            color:  #f1f1f1;\n",
              "        }    #T_6ae760aa_a9d5_11ea_bfc7_0242ac1c0002row1_col2 {\n",
              "            background-color:  #9ebeff;\n",
              "            color:  #000000;\n",
              "        }    #T_6ae760aa_a9d5_11ea_bfc7_0242ac1c0002row1_col3 {\n",
              "            background-color:  #7b9ff9;\n",
              "            color:  #000000;\n",
              "        }    #T_6ae760aa_a9d5_11ea_bfc7_0242ac1c0002row1_col4 {\n",
              "            background-color:  #6384eb;\n",
              "            color:  #000000;\n",
              "        }    #T_6ae760aa_a9d5_11ea_bfc7_0242ac1c0002row1_col5 {\n",
              "            background-color:  #5470de;\n",
              "            color:  #000000;\n",
              "        }    #T_6ae760aa_a9d5_11ea_bfc7_0242ac1c0002row1_col6 {\n",
              "            background-color:  #5e7de7;\n",
              "            color:  #000000;\n",
              "        }    #T_6ae760aa_a9d5_11ea_bfc7_0242ac1c0002row1_col7 {\n",
              "            background-color:  #6180e9;\n",
              "            color:  #000000;\n",
              "        }    #T_6ae760aa_a9d5_11ea_bfc7_0242ac1c0002row1_col8 {\n",
              "            background-color:  #5977e3;\n",
              "            color:  #000000;\n",
              "        }    #T_6ae760aa_a9d5_11ea_bfc7_0242ac1c0002row1_col9 {\n",
              "            background-color:  #5d7ce6;\n",
              "            color:  #000000;\n",
              "        }    #T_6ae760aa_a9d5_11ea_bfc7_0242ac1c0002row2_col0 {\n",
              "            background-color:  #a9c6fd;\n",
              "            color:  #000000;\n",
              "        }    #T_6ae760aa_a9d5_11ea_bfc7_0242ac1c0002row2_col1 {\n",
              "            background-color:  #bed2f6;\n",
              "            color:  #000000;\n",
              "        }    #T_6ae760aa_a9d5_11ea_bfc7_0242ac1c0002row2_col2 {\n",
              "            background-color:  #b40426;\n",
              "            color:  #f1f1f1;\n",
              "        }    #T_6ae760aa_a9d5_11ea_bfc7_0242ac1c0002row2_col3 {\n",
              "            background-color:  #d2dbe8;\n",
              "            color:  #000000;\n",
              "        }    #T_6ae760aa_a9d5_11ea_bfc7_0242ac1c0002row2_col4 {\n",
              "            background-color:  #96b7ff;\n",
              "            color:  #000000;\n",
              "        }    #T_6ae760aa_a9d5_11ea_bfc7_0242ac1c0002row2_col5 {\n",
              "            background-color:  #7da0f9;\n",
              "            color:  #000000;\n",
              "        }    #T_6ae760aa_a9d5_11ea_bfc7_0242ac1c0002row2_col6 {\n",
              "            background-color:  #85a8fc;\n",
              "            color:  #000000;\n",
              "        }    #T_6ae760aa_a9d5_11ea_bfc7_0242ac1c0002row2_col7 {\n",
              "            background-color:  #8caffe;\n",
              "            color:  #000000;\n",
              "        }    #T_6ae760aa_a9d5_11ea_bfc7_0242ac1c0002row2_col8 {\n",
              "            background-color:  #84a7fc;\n",
              "            color:  #000000;\n",
              "        }    #T_6ae760aa_a9d5_11ea_bfc7_0242ac1c0002row2_col9 {\n",
              "            background-color:  #86a9fc;\n",
              "            color:  #000000;\n",
              "        }    #T_6ae760aa_a9d5_11ea_bfc7_0242ac1c0002row3_col0 {\n",
              "            background-color:  #97b8ff;\n",
              "            color:  #000000;\n",
              "        }    #T_6ae760aa_a9d5_11ea_bfc7_0242ac1c0002row3_col1 {\n",
              "            background-color:  #9bbcff;\n",
              "            color:  #000000;\n",
              "        }    #T_6ae760aa_a9d5_11ea_bfc7_0242ac1c0002row3_col2 {\n",
              "            background-color:  #cedaeb;\n",
              "            color:  #000000;\n",
              "        }    #T_6ae760aa_a9d5_11ea_bfc7_0242ac1c0002row3_col3 {\n",
              "            background-color:  #b40426;\n",
              "            color:  #f1f1f1;\n",
              "        }    #T_6ae760aa_a9d5_11ea_bfc7_0242ac1c0002row3_col4 {\n",
              "            background-color:  #81a4fb;\n",
              "            color:  #000000;\n",
              "        }    #T_6ae760aa_a9d5_11ea_bfc7_0242ac1c0002row3_col5 {\n",
              "            background-color:  #7699f6;\n",
              "            color:  #000000;\n",
              "        }    #T_6ae760aa_a9d5_11ea_bfc7_0242ac1c0002row3_col6 {\n",
              "            background-color:  #7396f5;\n",
              "            color:  #000000;\n",
              "        }    #T_6ae760aa_a9d5_11ea_bfc7_0242ac1c0002row3_col7 {\n",
              "            background-color:  #799cf8;\n",
              "            color:  #000000;\n",
              "        }    #T_6ae760aa_a9d5_11ea_bfc7_0242ac1c0002row3_col8 {\n",
              "            background-color:  #779af7;\n",
              "            color:  #000000;\n",
              "        }    #T_6ae760aa_a9d5_11ea_bfc7_0242ac1c0002row3_col9 {\n",
              "            background-color:  #6a8bef;\n",
              "            color:  #000000;\n",
              "        }    #T_6ae760aa_a9d5_11ea_bfc7_0242ac1c0002row4_col0 {\n",
              "            background-color:  #5e7de7;\n",
              "            color:  #000000;\n",
              "        }    #T_6ae760aa_a9d5_11ea_bfc7_0242ac1c0002row4_col1 {\n",
              "            background-color:  #6c8ff1;\n",
              "            color:  #000000;\n",
              "        }    #T_6ae760aa_a9d5_11ea_bfc7_0242ac1c0002row4_col2 {\n",
              "            background-color:  #799cf8;\n",
              "            color:  #000000;\n",
              "        }    #T_6ae760aa_a9d5_11ea_bfc7_0242ac1c0002row4_col3 {\n",
              "            background-color:  #688aef;\n",
              "            color:  #000000;\n",
              "        }    #T_6ae760aa_a9d5_11ea_bfc7_0242ac1c0002row4_col4 {\n",
              "            background-color:  #b40426;\n",
              "            color:  #f1f1f1;\n",
              "        }    #T_6ae760aa_a9d5_11ea_bfc7_0242ac1c0002row4_col5 {\n",
              "            background-color:  #ed8366;\n",
              "            color:  #000000;\n",
              "        }    #T_6ae760aa_a9d5_11ea_bfc7_0242ac1c0002row4_col6 {\n",
              "            background-color:  #dd5f4b;\n",
              "            color:  #000000;\n",
              "        }    #T_6ae760aa_a9d5_11ea_bfc7_0242ac1c0002row4_col7 {\n",
              "            background-color:  #da5a49;\n",
              "            color:  #000000;\n",
              "        }    #T_6ae760aa_a9d5_11ea_bfc7_0242ac1c0002row4_col8 {\n",
              "            background-color:  #df634e;\n",
              "            color:  #000000;\n",
              "        }    #T_6ae760aa_a9d5_11ea_bfc7_0242ac1c0002row4_col9 {\n",
              "            background-color:  #f6a586;\n",
              "            color:  #000000;\n",
              "        }    #T_6ae760aa_a9d5_11ea_bfc7_0242ac1c0002row5_col0 {\n",
              "            background-color:  #3b4cc0;\n",
              "            color:  #f1f1f1;\n",
              "        }    #T_6ae760aa_a9d5_11ea_bfc7_0242ac1c0002row5_col1 {\n",
              "            background-color:  #3b4cc0;\n",
              "            color:  #f1f1f1;\n",
              "        }    #T_6ae760aa_a9d5_11ea_bfc7_0242ac1c0002row5_col2 {\n",
              "            background-color:  #3b4cc0;\n",
              "            color:  #f1f1f1;\n",
              "        }    #T_6ae760aa_a9d5_11ea_bfc7_0242ac1c0002row5_col3 {\n",
              "            background-color:  #3b4cc0;\n",
              "            color:  #f1f1f1;\n",
              "        }    #T_6ae760aa_a9d5_11ea_bfc7_0242ac1c0002row5_col4 {\n",
              "            background-color:  #f18d6f;\n",
              "            color:  #000000;\n",
              "        }    #T_6ae760aa_a9d5_11ea_bfc7_0242ac1c0002row5_col5 {\n",
              "            background-color:  #b40426;\n",
              "            color:  #f1f1f1;\n",
              "        }    #T_6ae760aa_a9d5_11ea_bfc7_0242ac1c0002row5_col6 {\n",
              "            background-color:  #f5c1a9;\n",
              "            color:  #000000;\n",
              "        }    #T_6ae760aa_a9d5_11ea_bfc7_0242ac1c0002row5_col7 {\n",
              "            background-color:  #f5c2aa;\n",
              "            color:  #000000;\n",
              "        }    #T_6ae760aa_a9d5_11ea_bfc7_0242ac1c0002row5_col8 {\n",
              "            background-color:  #f5a081;\n",
              "            color:  #000000;\n",
              "        }    #T_6ae760aa_a9d5_11ea_bfc7_0242ac1c0002row5_col9 {\n",
              "            background-color:  #a7c5fe;\n",
              "            color:  #000000;\n",
              "        }    #T_6ae760aa_a9d5_11ea_bfc7_0242ac1c0002row6_col0 {\n",
              "            background-color:  #4a63d3;\n",
              "            color:  #f1f1f1;\n",
              "        }    #T_6ae760aa_a9d5_11ea_bfc7_0242ac1c0002row6_col1 {\n",
              "            background-color:  #5572df;\n",
              "            color:  #000000;\n",
              "        }    #T_6ae760aa_a9d5_11ea_bfc7_0242ac1c0002row6_col2 {\n",
              "            background-color:  #536edd;\n",
              "            color:  #000000;\n",
              "        }    #T_6ae760aa_a9d5_11ea_bfc7_0242ac1c0002row6_col3 {\n",
              "            background-color:  #465ecf;\n",
              "            color:  #f1f1f1;\n",
              "        }    #T_6ae760aa_a9d5_11ea_bfc7_0242ac1c0002row6_col4 {\n",
              "            background-color:  #df634e;\n",
              "            color:  #000000;\n",
              "        }    #T_6ae760aa_a9d5_11ea_bfc7_0242ac1c0002row6_col5 {\n",
              "            background-color:  #f7bca1;\n",
              "            color:  #000000;\n",
              "        }    #T_6ae760aa_a9d5_11ea_bfc7_0242ac1c0002row6_col6 {\n",
              "            background-color:  #b40426;\n",
              "            color:  #f1f1f1;\n",
              "        }    #T_6ae760aa_a9d5_11ea_bfc7_0242ac1c0002row6_col7 {\n",
              "            background-color:  #ec8165;\n",
              "            color:  #000000;\n",
              "        }    #T_6ae760aa_a9d5_11ea_bfc7_0242ac1c0002row6_col8 {\n",
              "            background-color:  #f7a98b;\n",
              "            color:  #000000;\n",
              "        }    #T_6ae760aa_a9d5_11ea_bfc7_0242ac1c0002row6_col9 {\n",
              "            background-color:  #d6dce4;\n",
              "            color:  #000000;\n",
              "        }    #T_6ae760aa_a9d5_11ea_bfc7_0242ac1c0002row7_col0 {\n",
              "            background-color:  #506bda;\n",
              "            color:  #000000;\n",
              "        }    #T_6ae760aa_a9d5_11ea_bfc7_0242ac1c0002row7_col1 {\n",
              "            background-color:  #5d7ce6;\n",
              "            color:  #000000;\n",
              "        }    #T_6ae760aa_a9d5_11ea_bfc7_0242ac1c0002row7_col2 {\n",
              "            background-color:  #5f7fe8;\n",
              "            color:  #000000;\n",
              "        }    #T_6ae760aa_a9d5_11ea_bfc7_0242ac1c0002row7_col3 {\n",
              "            background-color:  #536edd;\n",
              "            color:  #000000;\n",
              "        }    #T_6ae760aa_a9d5_11ea_bfc7_0242ac1c0002row7_col4 {\n",
              "            background-color:  #dc5d4a;\n",
              "            color:  #000000;\n",
              "        }    #T_6ae760aa_a9d5_11ea_bfc7_0242ac1c0002row7_col5 {\n",
              "            background-color:  #f7ba9f;\n",
              "            color:  #000000;\n",
              "        }    #T_6ae760aa_a9d5_11ea_bfc7_0242ac1c0002row7_col6 {\n",
              "            background-color:  #eb7d62;\n",
              "            color:  #000000;\n",
              "        }    #T_6ae760aa_a9d5_11ea_bfc7_0242ac1c0002row7_col7 {\n",
              "            background-color:  #b40426;\n",
              "            color:  #f1f1f1;\n",
              "        }    #T_6ae760aa_a9d5_11ea_bfc7_0242ac1c0002row7_col8 {\n",
              "            background-color:  #f59f80;\n",
              "            color:  #000000;\n",
              "        }    #T_6ae760aa_a9d5_11ea_bfc7_0242ac1c0002row7_col9 {\n",
              "            background-color:  #dadce0;\n",
              "            color:  #000000;\n",
              "        }    #T_6ae760aa_a9d5_11ea_bfc7_0242ac1c0002row8_col0 {\n",
              "            background-color:  #4c66d6;\n",
              "            color:  #000000;\n",
              "        }    #T_6ae760aa_a9d5_11ea_bfc7_0242ac1c0002row8_col1 {\n",
              "            background-color:  #516ddb;\n",
              "            color:  #000000;\n",
              "        }    #T_6ae760aa_a9d5_11ea_bfc7_0242ac1c0002row8_col2 {\n",
              "            background-color:  #536edd;\n",
              "            color:  #000000;\n",
              "        }    #T_6ae760aa_a9d5_11ea_bfc7_0242ac1c0002row8_col3 {\n",
              "            background-color:  #4e68d8;\n",
              "            color:  #000000;\n",
              "        }    #T_6ae760aa_a9d5_11ea_bfc7_0242ac1c0002row8_col4 {\n",
              "            background-color:  #e16751;\n",
              "            color:  #000000;\n",
              "        }    #T_6ae760aa_a9d5_11ea_bfc7_0242ac1c0002row8_col5 {\n",
              "            background-color:  #f49a7b;\n",
              "            color:  #000000;\n",
              "        }    #T_6ae760aa_a9d5_11ea_bfc7_0242ac1c0002row8_col6 {\n",
              "            background-color:  #f7a889;\n",
              "            color:  #000000;\n",
              "        }    #T_6ae760aa_a9d5_11ea_bfc7_0242ac1c0002row8_col7 {\n",
              "            background-color:  #f5a081;\n",
              "            color:  #000000;\n",
              "        }    #T_6ae760aa_a9d5_11ea_bfc7_0242ac1c0002row8_col8 {\n",
              "            background-color:  #b40426;\n",
              "            color:  #f1f1f1;\n",
              "        }    #T_6ae760aa_a9d5_11ea_bfc7_0242ac1c0002row8_col9 {\n",
              "            background-color:  #cdd9ec;\n",
              "            color:  #000000;\n",
              "        }    #T_6ae760aa_a9d5_11ea_bfc7_0242ac1c0002row9_col0 {\n",
              "            background-color:  #4e68d8;\n",
              "            color:  #000000;\n",
              "        }    #T_6ae760aa_a9d5_11ea_bfc7_0242ac1c0002row9_col1 {\n",
              "            background-color:  #5673e0;\n",
              "            color:  #000000;\n",
              "        }    #T_6ae760aa_a9d5_11ea_bfc7_0242ac1c0002row9_col2 {\n",
              "            background-color:  #5673e0;\n",
              "            color:  #000000;\n",
              "        }    #T_6ae760aa_a9d5_11ea_bfc7_0242ac1c0002row9_col3 {\n",
              "            background-color:  #3f53c6;\n",
              "            color:  #f1f1f1;\n",
              "        }    #T_6ae760aa_a9d5_11ea_bfc7_0242ac1c0002row9_col4 {\n",
              "            background-color:  #f7aa8c;\n",
              "            color:  #000000;\n",
              "        }    #T_6ae760aa_a9d5_11ea_bfc7_0242ac1c0002row9_col5 {\n",
              "            background-color:  #b6cefa;\n",
              "            color:  #000000;\n",
              "        }    #T_6ae760aa_a9d5_11ea_bfc7_0242ac1c0002row9_col6 {\n",
              "            background-color:  #d8dce2;\n",
              "            color:  #000000;\n",
              "        }    #T_6ae760aa_a9d5_11ea_bfc7_0242ac1c0002row9_col7 {\n",
              "            background-color:  #d8dce2;\n",
              "            color:  #000000;\n",
              "        }    #T_6ae760aa_a9d5_11ea_bfc7_0242ac1c0002row9_col8 {\n",
              "            background-color:  #cdd9ec;\n",
              "            color:  #000000;\n",
              "        }    #T_6ae760aa_a9d5_11ea_bfc7_0242ac1c0002row9_col9 {\n",
              "            background-color:  #b40426;\n",
              "            color:  #f1f1f1;\n",
              "        }</style><table id=\"T_6ae760aa_a9d5_11ea_bfc7_0242ac1c0002\" ><thead>    <tr>        <th class=\"blank level0\" ></th>        <th class=\"col_heading level0 col0\" >NU_NOTA_MT</th>        <th class=\"col_heading level0 col1\" >NU_NOTA_CN</th>        <th class=\"col_heading level0 col2\" >NU_NOTA_CH</th>        <th class=\"col_heading level0 col3\" >NU_NOTA_LC</th>        <th class=\"col_heading level0 col4\" >NU_NOTA_REDACAO</th>        <th class=\"col_heading level0 col5\" >NU_NOTA_COMP1</th>        <th class=\"col_heading level0 col6\" >NU_NOTA_COMP2</th>        <th class=\"col_heading level0 col7\" >NU_NOTA_COMP3</th>        <th class=\"col_heading level0 col8\" >NU_NOTA_COMP4</th>        <th class=\"col_heading level0 col9\" >NU_NOTA_COMP5</th>    </tr></thead><tbody>\n",
              "                <tr>\n",
              "                        <th id=\"T_6ae760aa_a9d5_11ea_bfc7_0242ac1c0002level0_row0\" class=\"row_heading level0 row0\" >NU_NOTA_MT</th>\n",
              "                        <td id=\"T_6ae760aa_a9d5_11ea_bfc7_0242ac1c0002row0_col0\" class=\"data row0 col0\" >1.000000</td>\n",
              "                        <td id=\"T_6ae760aa_a9d5_11ea_bfc7_0242ac1c0002row0_col1\" class=\"data row0 col1\" >0.584941</td>\n",
              "                        <td id=\"T_6ae760aa_a9d5_11ea_bfc7_0242ac1c0002row0_col2\" class=\"data row0 col2\" >0.529594</td>\n",
              "                        <td id=\"T_6ae760aa_a9d5_11ea_bfc7_0242ac1c0002row0_col3\" class=\"data row0 col3\" >0.494695</td>\n",
              "                        <td id=\"T_6ae760aa_a9d5_11ea_bfc7_0242ac1c0002row0_col4\" class=\"data row0 col4\" >0.379376</td>\n",
              "                        <td id=\"T_6ae760aa_a9d5_11ea_bfc7_0242ac1c0002row0_col5\" class=\"data row0 col5\" >0.299402</td>\n",
              "                        <td id=\"T_6ae760aa_a9d5_11ea_bfc7_0242ac1c0002row0_col6\" class=\"data row0 col6\" >0.335638</td>\n",
              "                        <td id=\"T_6ae760aa_a9d5_11ea_bfc7_0242ac1c0002row0_col7\" class=\"data row0 col7\" >0.350307</td>\n",
              "                        <td id=\"T_6ae760aa_a9d5_11ea_bfc7_0242ac1c0002row0_col8\" class=\"data row0 col8\" >0.342282</td>\n",
              "                        <td id=\"T_6ae760aa_a9d5_11ea_bfc7_0242ac1c0002row0_col9\" class=\"data row0 col9\" >0.343337</td>\n",
              "            </tr>\n",
              "            <tr>\n",
              "                        <th id=\"T_6ae760aa_a9d5_11ea_bfc7_0242ac1c0002level0_row1\" class=\"row_heading level0 row1\" >NU_NOTA_CN</th>\n",
              "                        <td id=\"T_6ae760aa_a9d5_11ea_bfc7_0242ac1c0002row1_col0\" class=\"data row1 col0\" >0.584941</td>\n",
              "                        <td id=\"T_6ae760aa_a9d5_11ea_bfc7_0242ac1c0002row1_col1\" class=\"data row1 col1\" >1.000000</td>\n",
              "                        <td id=\"T_6ae760aa_a9d5_11ea_bfc7_0242ac1c0002row1_col2\" class=\"data row1 col2\" >0.609543</td>\n",
              "                        <td id=\"T_6ae760aa_a9d5_11ea_bfc7_0242ac1c0002row1_col3\" class=\"data row1 col3\" >0.545667</td>\n",
              "                        <td id=\"T_6ae760aa_a9d5_11ea_bfc7_0242ac1c0002row1_col4\" class=\"data row1 col4\" >0.459938</td>\n",
              "                        <td id=\"T_6ae760aa_a9d5_11ea_bfc7_0242ac1c0002row1_col5\" class=\"data row1 col5\" >0.357672</td>\n",
              "                        <td id=\"T_6ae760aa_a9d5_11ea_bfc7_0242ac1c0002row1_col6\" class=\"data row1 col6\" >0.412894</td>\n",
              "                        <td id=\"T_6ae760aa_a9d5_11ea_bfc7_0242ac1c0002row1_col7\" class=\"data row1 col7\" >0.429447</td>\n",
              "                        <td id=\"T_6ae760aa_a9d5_11ea_bfc7_0242ac1c0002row1_col8\" class=\"data row1 col8\" >0.407747</td>\n",
              "                        <td id=\"T_6ae760aa_a9d5_11ea_bfc7_0242ac1c0002row1_col9\" class=\"data row1 col9\" >0.416349</td>\n",
              "            </tr>\n",
              "            <tr>\n",
              "                        <th id=\"T_6ae760aa_a9d5_11ea_bfc7_0242ac1c0002level0_row2\" class=\"row_heading level0 row2\" >NU_NOTA_CH</th>\n",
              "                        <td id=\"T_6ae760aa_a9d5_11ea_bfc7_0242ac1c0002row2_col0\" class=\"data row2 col0\" >0.529594</td>\n",
              "                        <td id=\"T_6ae760aa_a9d5_11ea_bfc7_0242ac1c0002row2_col1\" class=\"data row2 col1\" >0.609543</td>\n",
              "                        <td id=\"T_6ae760aa_a9d5_11ea_bfc7_0242ac1c0002row2_col2\" class=\"data row2 col2\" >1.000000</td>\n",
              "                        <td id=\"T_6ae760aa_a9d5_11ea_bfc7_0242ac1c0002row2_col3\" class=\"data row2 col3\" >0.692988</td>\n",
              "                        <td id=\"T_6ae760aa_a9d5_11ea_bfc7_0242ac1c0002row2_col4\" class=\"data row2 col4\" >0.550582</td>\n",
              "                        <td id=\"T_6ae760aa_a9d5_11ea_bfc7_0242ac1c0002row2_col5\" class=\"data row2 col5\" >0.443809</td>\n",
              "                        <td id=\"T_6ae760aa_a9d5_11ea_bfc7_0242ac1c0002row2_col6\" class=\"data row2 col6\" >0.488050</td>\n",
              "                        <td id=\"T_6ae760aa_a9d5_11ea_bfc7_0242ac1c0002row2_col7\" class=\"data row2 col7\" >0.510452</td>\n",
              "                        <td id=\"T_6ae760aa_a9d5_11ea_bfc7_0242ac1c0002row2_col8\" class=\"data row2 col8\" >0.488797</td>\n",
              "                        <td id=\"T_6ae760aa_a9d5_11ea_bfc7_0242ac1c0002row2_col9\" class=\"data row2 col9\" >0.494798</td>\n",
              "            </tr>\n",
              "            <tr>\n",
              "                        <th id=\"T_6ae760aa_a9d5_11ea_bfc7_0242ac1c0002level0_row3\" class=\"row_heading level0 row3\" >NU_NOTA_LC</th>\n",
              "                        <td id=\"T_6ae760aa_a9d5_11ea_bfc7_0242ac1c0002row3_col0\" class=\"data row3 col0\" >0.494695</td>\n",
              "                        <td id=\"T_6ae760aa_a9d5_11ea_bfc7_0242ac1c0002row3_col1\" class=\"data row3 col1\" >0.545667</td>\n",
              "                        <td id=\"T_6ae760aa_a9d5_11ea_bfc7_0242ac1c0002row3_col2\" class=\"data row3 col2\" >0.692988</td>\n",
              "                        <td id=\"T_6ae760aa_a9d5_11ea_bfc7_0242ac1c0002row3_col3\" class=\"data row3 col3\" >1.000000</td>\n",
              "                        <td id=\"T_6ae760aa_a9d5_11ea_bfc7_0242ac1c0002row3_col4\" class=\"data row3 col4\" >0.512908</td>\n",
              "                        <td id=\"T_6ae760aa_a9d5_11ea_bfc7_0242ac1c0002row3_col5\" class=\"data row3 col5\" >0.430603</td>\n",
              "                        <td id=\"T_6ae760aa_a9d5_11ea_bfc7_0242ac1c0002row3_col6\" class=\"data row3 col6\" >0.453262</td>\n",
              "                        <td id=\"T_6ae760aa_a9d5_11ea_bfc7_0242ac1c0002row3_col7\" class=\"data row3 col7\" >0.475390</td>\n",
              "                        <td id=\"T_6ae760aa_a9d5_11ea_bfc7_0242ac1c0002row3_col8\" class=\"data row3 col8\" >0.467356</td>\n",
              "                        <td id=\"T_6ae760aa_a9d5_11ea_bfc7_0242ac1c0002row3_col9\" class=\"data row3 col9\" >0.441696</td>\n",
              "            </tr>\n",
              "            <tr>\n",
              "                        <th id=\"T_6ae760aa_a9d5_11ea_bfc7_0242ac1c0002level0_row4\" class=\"row_heading level0 row4\" >NU_NOTA_REDACAO</th>\n",
              "                        <td id=\"T_6ae760aa_a9d5_11ea_bfc7_0242ac1c0002row4_col0\" class=\"data row4 col0\" >0.379376</td>\n",
              "                        <td id=\"T_6ae760aa_a9d5_11ea_bfc7_0242ac1c0002row4_col1\" class=\"data row4 col1\" >0.459938</td>\n",
              "                        <td id=\"T_6ae760aa_a9d5_11ea_bfc7_0242ac1c0002row4_col2\" class=\"data row4 col2\" >0.550582</td>\n",
              "                        <td id=\"T_6ae760aa_a9d5_11ea_bfc7_0242ac1c0002row4_col3\" class=\"data row4 col3\" >0.512908</td>\n",
              "                        <td id=\"T_6ae760aa_a9d5_11ea_bfc7_0242ac1c0002row4_col4\" class=\"data row4 col4\" >1.000000</td>\n",
              "                        <td id=\"T_6ae760aa_a9d5_11ea_bfc7_0242ac1c0002row4_col5\" class=\"data row4 col5\" >0.862744</td>\n",
              "                        <td id=\"T_6ae760aa_a9d5_11ea_bfc7_0242ac1c0002row4_col6\" class=\"data row4 col6\" >0.918278</td>\n",
              "                        <td id=\"T_6ae760aa_a9d5_11ea_bfc7_0242ac1c0002row4_col7\" class=\"data row4 col7\" >0.925813</td>\n",
              "                        <td id=\"T_6ae760aa_a9d5_11ea_bfc7_0242ac1c0002row4_col8\" class=\"data row4 col8\" >0.914505</td>\n",
              "                        <td id=\"T_6ae760aa_a9d5_11ea_bfc7_0242ac1c0002row4_col9\" class=\"data row4 col9\" >0.816248</td>\n",
              "            </tr>\n",
              "            <tr>\n",
              "                        <th id=\"T_6ae760aa_a9d5_11ea_bfc7_0242ac1c0002level0_row5\" class=\"row_heading level0 row5\" >NU_NOTA_COMP1</th>\n",
              "                        <td id=\"T_6ae760aa_a9d5_11ea_bfc7_0242ac1c0002row5_col0\" class=\"data row5 col0\" >0.299402</td>\n",
              "                        <td id=\"T_6ae760aa_a9d5_11ea_bfc7_0242ac1c0002row5_col1\" class=\"data row5 col1\" >0.357672</td>\n",
              "                        <td id=\"T_6ae760aa_a9d5_11ea_bfc7_0242ac1c0002row5_col2\" class=\"data row5 col2\" >0.443809</td>\n",
              "                        <td id=\"T_6ae760aa_a9d5_11ea_bfc7_0242ac1c0002row5_col3\" class=\"data row5 col3\" >0.430603</td>\n",
              "                        <td id=\"T_6ae760aa_a9d5_11ea_bfc7_0242ac1c0002row5_col4\" class=\"data row5 col4\" >0.862744</td>\n",
              "                        <td id=\"T_6ae760aa_a9d5_11ea_bfc7_0242ac1c0002row5_col5\" class=\"data row5 col5\" >1.000000</td>\n",
              "                        <td id=\"T_6ae760aa_a9d5_11ea_bfc7_0242ac1c0002row5_col6\" class=\"data row5 col6\" >0.756664</td>\n",
              "                        <td id=\"T_6ae760aa_a9d5_11ea_bfc7_0242ac1c0002row5_col7\" class=\"data row5 col7\" >0.759452</td>\n",
              "                        <td id=\"T_6ae760aa_a9d5_11ea_bfc7_0242ac1c0002row5_col8\" class=\"data row5 col8\" >0.824538</td>\n",
              "                        <td id=\"T_6ae760aa_a9d5_11ea_bfc7_0242ac1c0002row5_col9\" class=\"data row5 col9\" >0.558587</td>\n",
              "            </tr>\n",
              "            <tr>\n",
              "                        <th id=\"T_6ae760aa_a9d5_11ea_bfc7_0242ac1c0002level0_row6\" class=\"row_heading level0 row6\" >NU_NOTA_COMP2</th>\n",
              "                        <td id=\"T_6ae760aa_a9d5_11ea_bfc7_0242ac1c0002row6_col0\" class=\"data row6 col0\" >0.335638</td>\n",
              "                        <td id=\"T_6ae760aa_a9d5_11ea_bfc7_0242ac1c0002row6_col1\" class=\"data row6 col1\" >0.412894</td>\n",
              "                        <td id=\"T_6ae760aa_a9d5_11ea_bfc7_0242ac1c0002row6_col2\" class=\"data row6 col2\" >0.488050</td>\n",
              "                        <td id=\"T_6ae760aa_a9d5_11ea_bfc7_0242ac1c0002row6_col3\" class=\"data row6 col3\" >0.453262</td>\n",
              "                        <td id=\"T_6ae760aa_a9d5_11ea_bfc7_0242ac1c0002row6_col4\" class=\"data row6 col4\" >0.918278</td>\n",
              "                        <td id=\"T_6ae760aa_a9d5_11ea_bfc7_0242ac1c0002row6_col5\" class=\"data row6 col5\" >0.756664</td>\n",
              "                        <td id=\"T_6ae760aa_a9d5_11ea_bfc7_0242ac1c0002row6_col6\" class=\"data row6 col6\" >1.000000</td>\n",
              "                        <td id=\"T_6ae760aa_a9d5_11ea_bfc7_0242ac1c0002row6_col7\" class=\"data row6 col7\" >0.875447</td>\n",
              "                        <td id=\"T_6ae760aa_a9d5_11ea_bfc7_0242ac1c0002row6_col8\" class=\"data row6 col8\" >0.808006</td>\n",
              "                        <td id=\"T_6ae760aa_a9d5_11ea_bfc7_0242ac1c0002row6_col9\" class=\"data row6 col9\" >0.655915</td>\n",
              "            </tr>\n",
              "            <tr>\n",
              "                        <th id=\"T_6ae760aa_a9d5_11ea_bfc7_0242ac1c0002level0_row7\" class=\"row_heading level0 row7\" >NU_NOTA_COMP3</th>\n",
              "                        <td id=\"T_6ae760aa_a9d5_11ea_bfc7_0242ac1c0002row7_col0\" class=\"data row7 col0\" >0.350307</td>\n",
              "                        <td id=\"T_6ae760aa_a9d5_11ea_bfc7_0242ac1c0002row7_col1\" class=\"data row7 col1\" >0.429447</td>\n",
              "                        <td id=\"T_6ae760aa_a9d5_11ea_bfc7_0242ac1c0002row7_col2\" class=\"data row7 col2\" >0.510452</td>\n",
              "                        <td id=\"T_6ae760aa_a9d5_11ea_bfc7_0242ac1c0002row7_col3\" class=\"data row7 col3\" >0.475390</td>\n",
              "                        <td id=\"T_6ae760aa_a9d5_11ea_bfc7_0242ac1c0002row7_col4\" class=\"data row7 col4\" >0.925813</td>\n",
              "                        <td id=\"T_6ae760aa_a9d5_11ea_bfc7_0242ac1c0002row7_col5\" class=\"data row7 col5\" >0.759452</td>\n",
              "                        <td id=\"T_6ae760aa_a9d5_11ea_bfc7_0242ac1c0002row7_col6\" class=\"data row7 col6\" >0.875447</td>\n",
              "                        <td id=\"T_6ae760aa_a9d5_11ea_bfc7_0242ac1c0002row7_col7\" class=\"data row7 col7\" >1.000000</td>\n",
              "                        <td id=\"T_6ae760aa_a9d5_11ea_bfc7_0242ac1c0002row7_col8\" class=\"data row7 col8\" >0.827151</td>\n",
              "                        <td id=\"T_6ae760aa_a9d5_11ea_bfc7_0242ac1c0002row7_col9\" class=\"data row7 col9\" >0.664350</td>\n",
              "            </tr>\n",
              "            <tr>\n",
              "                        <th id=\"T_6ae760aa_a9d5_11ea_bfc7_0242ac1c0002level0_row8\" class=\"row_heading level0 row8\" >NU_NOTA_COMP4</th>\n",
              "                        <td id=\"T_6ae760aa_a9d5_11ea_bfc7_0242ac1c0002row8_col0\" class=\"data row8 col0\" >0.342282</td>\n",
              "                        <td id=\"T_6ae760aa_a9d5_11ea_bfc7_0242ac1c0002row8_col1\" class=\"data row8 col1\" >0.407747</td>\n",
              "                        <td id=\"T_6ae760aa_a9d5_11ea_bfc7_0242ac1c0002row8_col2\" class=\"data row8 col2\" >0.488797</td>\n",
              "                        <td id=\"T_6ae760aa_a9d5_11ea_bfc7_0242ac1c0002row8_col3\" class=\"data row8 col3\" >0.467356</td>\n",
              "                        <td id=\"T_6ae760aa_a9d5_11ea_bfc7_0242ac1c0002row8_col4\" class=\"data row8 col4\" >0.914505</td>\n",
              "                        <td id=\"T_6ae760aa_a9d5_11ea_bfc7_0242ac1c0002row8_col5\" class=\"data row8 col5\" >0.824538</td>\n",
              "                        <td id=\"T_6ae760aa_a9d5_11ea_bfc7_0242ac1c0002row8_col6\" class=\"data row8 col6\" >0.808006</td>\n",
              "                        <td id=\"T_6ae760aa_a9d5_11ea_bfc7_0242ac1c0002row8_col7\" class=\"data row8 col7\" >0.827151</td>\n",
              "                        <td id=\"T_6ae760aa_a9d5_11ea_bfc7_0242ac1c0002row8_col8\" class=\"data row8 col8\" >1.000000</td>\n",
              "                        <td id=\"T_6ae760aa_a9d5_11ea_bfc7_0242ac1c0002row8_col9\" class=\"data row8 col9\" >0.635018</td>\n",
              "            </tr>\n",
              "            <tr>\n",
              "                        <th id=\"T_6ae760aa_a9d5_11ea_bfc7_0242ac1c0002level0_row9\" class=\"row_heading level0 row9\" >NU_NOTA_COMP5</th>\n",
              "                        <td id=\"T_6ae760aa_a9d5_11ea_bfc7_0242ac1c0002row9_col0\" class=\"data row9 col0\" >0.343337</td>\n",
              "                        <td id=\"T_6ae760aa_a9d5_11ea_bfc7_0242ac1c0002row9_col1\" class=\"data row9 col1\" >0.416349</td>\n",
              "                        <td id=\"T_6ae760aa_a9d5_11ea_bfc7_0242ac1c0002row9_col2\" class=\"data row9 col2\" >0.494798</td>\n",
              "                        <td id=\"T_6ae760aa_a9d5_11ea_bfc7_0242ac1c0002row9_col3\" class=\"data row9 col3\" >0.441696</td>\n",
              "                        <td id=\"T_6ae760aa_a9d5_11ea_bfc7_0242ac1c0002row9_col4\" class=\"data row9 col4\" >0.816248</td>\n",
              "                        <td id=\"T_6ae760aa_a9d5_11ea_bfc7_0242ac1c0002row9_col5\" class=\"data row9 col5\" >0.558587</td>\n",
              "                        <td id=\"T_6ae760aa_a9d5_11ea_bfc7_0242ac1c0002row9_col6\" class=\"data row9 col6\" >0.655915</td>\n",
              "                        <td id=\"T_6ae760aa_a9d5_11ea_bfc7_0242ac1c0002row9_col7\" class=\"data row9 col7\" >0.664350</td>\n",
              "                        <td id=\"T_6ae760aa_a9d5_11ea_bfc7_0242ac1c0002row9_col8\" class=\"data row9 col8\" >0.635018</td>\n",
              "                        <td id=\"T_6ae760aa_a9d5_11ea_bfc7_0242ac1c0002row9_col9\" class=\"data row9 col9\" >1.000000</td>\n",
              "            </tr>\n",
              "    </tbody></table>"
            ],
            "text/plain": [
              "<pandas.io.formats.style.Styler at 0x7f90d0d69be0>"
            ]
          },
          "metadata": {
            "tags": []
          },
          "execution_count": 6
        }
      ]
    },
    {
      "cell_type": "markdown",
      "metadata": {
        "id": "D-I8qRf68pGs",
        "colab_type": "text"
      },
      "source": [
        "Verificando os valores faltantes do dataset"
      ]
    },
    {
      "cell_type": "code",
      "metadata": {
        "id": "99ZZUsHVpXg8",
        "colab_type": "code",
        "colab": {
          "base_uri": "https://localhost:8080/",
          "height": 221
        },
        "outputId": "5ad9b131-3f31-4abc-9e3a-ede3928a0605"
      },
      "source": [
        "nota.isnull().sum()"
      ],
      "execution_count": null,
      "outputs": [
        {
          "output_type": "execute_result",
          "data": {
            "text/plain": [
              "NU_INSCRICAO          0\n",
              "NU_NOTA_MT         3597\n",
              "NU_NOTA_CN         3389\n",
              "NU_NOTA_CH         3389\n",
              "NU_NOTA_LC         3597\n",
              "NU_NOTA_REDACAO    3597\n",
              "NU_NOTA_COMP1      3597\n",
              "NU_NOTA_COMP2      3597\n",
              "NU_NOTA_COMP3      3597\n",
              "NU_NOTA_COMP4      3597\n",
              "NU_NOTA_COMP5      3597\n",
              "dtype: int64"
            ]
          },
          "metadata": {
            "tags": []
          },
          "execution_count": 7
        }
      ]
    },
    {
      "cell_type": "markdown",
      "metadata": {
        "id": "S7AYYjqN912B",
        "colab_type": "text"
      },
      "source": [
        "Como havia varios válores nulos,  substitui os valores faltantes para 0"
      ]
    },
    {
      "cell_type": "code",
      "metadata": {
        "id": "-FM0dCIGwmSV",
        "colab_type": "code",
        "colab": {}
      },
      "source": [
        "nota = nota.fillna(0)"
      ],
      "execution_count": null,
      "outputs": []
    },
    {
      "cell_type": "markdown",
      "metadata": {
        "id": "auAavm79gtS-",
        "colab_type": "text"
      },
      "source": [
        "# Treinando o modelo com RandonForest"
      ]
    },
    {
      "cell_type": "markdown",
      "metadata": {
        "id": "oUWIb5qD-YA8",
        "colab_type": "text"
      },
      "source": [
        "Separando os dados de treino e teste "
      ]
    },
    {
      "cell_type": "code",
      "metadata": {
        "id": "3Fw5zrR8V8m1",
        "colab_type": "code",
        "colab": {}
      },
      "source": [
        "X = nota.drop(['NU_INSCRICAO','NU_NOTA_MT'], axis=1)\n",
        "y = nota['NU_NOTA_MT']"
      ],
      "execution_count": null,
      "outputs": []
    },
    {
      "cell_type": "code",
      "metadata": {
        "id": "UmCRKiJ4w3DR",
        "colab_type": "code",
        "colab": {}
      },
      "source": [
        "from sklearn.model_selection import train_test_split\n",
        "X_treinamento, X_teste, y_treinamento, y_teste = train_test_split(X, y,\n",
        "                                                                  random_state = 0)"
      ],
      "execution_count": null,
      "outputs": []
    },
    {
      "cell_type": "markdown",
      "metadata": {
        "id": "S5fpwPFf-ic1",
        "colab_type": "text"
      },
      "source": [
        "Neste projeto iremos utilizar o algoritmo de Machine Learning RandomForestRegressor, que pode ser importado da biblioteca sklearn.\n",
        "\n",
        "O random forest é um algoritmo de árvores de decisão, de maneira aleatória."
      ]
    },
    {
      "cell_type": "code",
      "metadata": {
        "id": "65w8ImhwySny",
        "colab_type": "code",
        "colab": {
          "base_uri": "https://localhost:8080/",
          "height": 136
        },
        "outputId": "b0156996-fab7-4933-ac0c-62122ee771df"
      },
      "source": [
        "from sklearn.ensemble import RandomForestRegressor\n",
        "regressor = RandomForestRegressor(n_estimators = 100)\n",
        "regressor.fit(X_treinamento, y_treinamento)\n"
      ],
      "execution_count": null,
      "outputs": [
        {
          "output_type": "execute_result",
          "data": {
            "text/plain": [
              "RandomForestRegressor(bootstrap=True, ccp_alpha=0.0, criterion='mse',\n",
              "                      max_depth=None, max_features='auto', max_leaf_nodes=None,\n",
              "                      max_samples=None, min_impurity_decrease=0.0,\n",
              "                      min_impurity_split=None, min_samples_leaf=1,\n",
              "                      min_samples_split=2, min_weight_fraction_leaf=0.0,\n",
              "                      n_estimators=100, n_jobs=None, oob_score=False,\n",
              "                      random_state=None, verbose=0, warm_start=False)"
            ]
          },
          "metadata": {
            "tags": []
          },
          "execution_count": 12
        }
      ]
    },
    {
      "cell_type": "code",
      "metadata": {
        "id": "Bc40wAb5w2_v",
        "colab_type": "code",
        "colab": {}
      },
      "source": [
        "previsoes = regressor.predict(X_teste)"
      ],
      "execution_count": null,
      "outputs": []
    },
    {
      "cell_type": "markdown",
      "metadata": {
        "id": "a6OVFiev_Gh_",
        "colab_type": "text"
      },
      "source": [
        "Importando as bibliotecas do sklearn para realizar as métricas do modelo"
      ]
    },
    {
      "cell_type": "code",
      "metadata": {
        "id": "RtvMr1Ro0otL",
        "colab_type": "code",
        "colab": {}
      },
      "source": [
        "from sklearn.metrics import mean_squared_error\n",
        "from sklearn import metrics\n",
        "from math import sqrt"
      ],
      "execution_count": null,
      "outputs": []
    },
    {
      "cell_type": "code",
      "metadata": {
        "id": "IO6x9Mg90sbd",
        "colab_type": "code",
        "colab": {
          "base_uri": "https://localhost:8080/",
          "height": 68
        },
        "outputId": "f9f33214-3688-4d3c-8b37-7a05315744bf"
      },
      "source": [
        "print('MAE:', metrics.mean_absolute_error(y_teste, previsoes))\n",
        "print('MSE:', metrics.mean_squared_error(y_teste, previsoes))\n",
        "print('RMSE:', np.sqrt(metrics.mean_squared_error(y_teste, previsoes)))"
      ],
      "execution_count": null,
      "outputs": [
        {
          "output_type": "stream",
          "text": [
            "MAE: 45.862185551995346\n",
            "MSE: 4521.2164900824355\n",
            "RMSE: 67.23999174659703\n"
          ],
          "name": "stdout"
        }
      ]
    },
    {
      "cell_type": "code",
      "metadata": {
        "id": "jsYFc-hICuH8",
        "colab_type": "code",
        "colab": {
          "base_uri": "https://localhost:8080/",
          "height": 34
        },
        "outputId": "d4653f63-a3cf-49c2-ccb6-04318b0c4922"
      },
      "source": [
        "rmse = sqrt(mean_squared_error(y_teste,previsoes))\n",
        "rmse/np.mean(y_teste)"
      ],
      "execution_count": null,
      "outputs": [
        {
          "output_type": "execute_result",
          "data": {
            "text/plain": [
              "0.18744802243487393"
            ]
          },
          "metadata": {
            "tags": []
          },
          "execution_count": 17
        }
      ]
    },
    {
      "cell_type": "markdown",
      "metadata": {
        "id": "pwoEIw6hBX28",
        "colab_type": "text"
      },
      "source": [
        "# Resultado"
      ]
    },
    {
      "cell_type": "markdown",
      "metadata": {
        "id": "oEJ4Z4Rze05Q",
        "colab_type": "text"
      },
      "source": [
        "Importando o arquivo disponibilizado pela Codenation, para o modelo realizar a predição das notas de matemáticas dos participantes do ENEM."
      ]
    },
    {
      "cell_type": "code",
      "metadata": {
        "id": "cuObn9TJAN_X",
        "colab_type": "code",
        "colab": {}
      },
      "source": [
        "answer = pd.read_csv('/content/drive/My Drive/Data Science/Projetos DS/Codenation/testfiles/test.csv')"
      ],
      "execution_count": null,
      "outputs": []
    },
    {
      "cell_type": "code",
      "metadata": {
        "id": "poV9bmvMCpTs",
        "colab_type": "code",
        "colab": {
          "base_uri": "https://localhost:8080/",
          "height": 224
        },
        "outputId": "2e3d2f65-69ea-4fb2-dcc5-9440da0f2b08"
      },
      "source": [
        "answer.head()"
      ],
      "execution_count": null,
      "outputs": [
        {
          "output_type": "execute_result",
          "data": {
            "text/html": [
              "<div>\n",
              "<style scoped>\n",
              "    .dataframe tbody tr th:only-of-type {\n",
              "        vertical-align: middle;\n",
              "    }\n",
              "\n",
              "    .dataframe tbody tr th {\n",
              "        vertical-align: top;\n",
              "    }\n",
              "\n",
              "    .dataframe thead th {\n",
              "        text-align: right;\n",
              "    }\n",
              "</style>\n",
              "<table border=\"1\" class=\"dataframe\">\n",
              "  <thead>\n",
              "    <tr style=\"text-align: right;\">\n",
              "      <th></th>\n",
              "      <th>NU_INSCRICAO</th>\n",
              "      <th>CO_UF_RESIDENCIA</th>\n",
              "      <th>SG_UF_RESIDENCIA</th>\n",
              "      <th>NU_IDADE</th>\n",
              "      <th>TP_SEXO</th>\n",
              "      <th>TP_COR_RACA</th>\n",
              "      <th>TP_NACIONALIDADE</th>\n",
              "      <th>TP_ST_CONCLUSAO</th>\n",
              "      <th>TP_ANO_CONCLUIU</th>\n",
              "      <th>TP_ESCOLA</th>\n",
              "      <th>TP_ENSINO</th>\n",
              "      <th>IN_TREINEIRO</th>\n",
              "      <th>TP_DEPENDENCIA_ADM_ESC</th>\n",
              "      <th>IN_BAIXA_VISAO</th>\n",
              "      <th>IN_CEGUEIRA</th>\n",
              "      <th>IN_SURDEZ</th>\n",
              "      <th>IN_DISLEXIA</th>\n",
              "      <th>IN_DISCALCULIA</th>\n",
              "      <th>IN_SABATISTA</th>\n",
              "      <th>IN_GESTANTE</th>\n",
              "      <th>IN_IDOSO</th>\n",
              "      <th>TP_PRESENCA_CN</th>\n",
              "      <th>TP_PRESENCA_CH</th>\n",
              "      <th>TP_PRESENCA_LC</th>\n",
              "      <th>CO_PROVA_CN</th>\n",
              "      <th>CO_PROVA_CH</th>\n",
              "      <th>CO_PROVA_LC</th>\n",
              "      <th>CO_PROVA_MT</th>\n",
              "      <th>NU_NOTA_CN</th>\n",
              "      <th>NU_NOTA_CH</th>\n",
              "      <th>NU_NOTA_LC</th>\n",
              "      <th>TP_LINGUA</th>\n",
              "      <th>TP_STATUS_REDACAO</th>\n",
              "      <th>NU_NOTA_COMP1</th>\n",
              "      <th>NU_NOTA_COMP2</th>\n",
              "      <th>NU_NOTA_COMP3</th>\n",
              "      <th>NU_NOTA_COMP4</th>\n",
              "      <th>NU_NOTA_COMP5</th>\n",
              "      <th>NU_NOTA_REDACAO</th>\n",
              "      <th>Q001</th>\n",
              "      <th>Q002</th>\n",
              "      <th>Q006</th>\n",
              "      <th>Q024</th>\n",
              "      <th>Q025</th>\n",
              "      <th>Q026</th>\n",
              "      <th>Q027</th>\n",
              "      <th>Q047</th>\n",
              "    </tr>\n",
              "  </thead>\n",
              "  <tbody>\n",
              "    <tr>\n",
              "      <th>0</th>\n",
              "      <td>73ff9fcc02f0a99919906c942c2e1a1042cdcf98</td>\n",
              "      <td>41</td>\n",
              "      <td>PR</td>\n",
              "      <td>22</td>\n",
              "      <td>F</td>\n",
              "      <td>3</td>\n",
              "      <td>1</td>\n",
              "      <td>1</td>\n",
              "      <td>5</td>\n",
              "      <td>1</td>\n",
              "      <td>NaN</td>\n",
              "      <td>0</td>\n",
              "      <td>NaN</td>\n",
              "      <td>0</td>\n",
              "      <td>0</td>\n",
              "      <td>0</td>\n",
              "      <td>0</td>\n",
              "      <td>0</td>\n",
              "      <td>0</td>\n",
              "      <td>0</td>\n",
              "      <td>0</td>\n",
              "      <td>1</td>\n",
              "      <td>1</td>\n",
              "      <td>1</td>\n",
              "      <td>16f84b7b3d2aeaff7d2f01297e6b3d0e25c77bb2</td>\n",
              "      <td>9cd70f1b922e02bd33453b3f607f5a644fb9b1b8</td>\n",
              "      <td>01abbb7f1a90505385f44eec9905f82ca2a42cfd</td>\n",
              "      <td>81d0ee00ef42a7c23eb04496458c03d4c5b9c31a</td>\n",
              "      <td>464.8</td>\n",
              "      <td>443.5</td>\n",
              "      <td>431.8</td>\n",
              "      <td>0</td>\n",
              "      <td>1.0</td>\n",
              "      <td>120.0</td>\n",
              "      <td>80.0</td>\n",
              "      <td>80.0</td>\n",
              "      <td>100.0</td>\n",
              "      <td>40.0</td>\n",
              "      <td>420.0</td>\n",
              "      <td>B</td>\n",
              "      <td>A</td>\n",
              "      <td>C</td>\n",
              "      <td>A</td>\n",
              "      <td>A</td>\n",
              "      <td>C</td>\n",
              "      <td>C</td>\n",
              "      <td>A</td>\n",
              "    </tr>\n",
              "    <tr>\n",
              "      <th>1</th>\n",
              "      <td>71a95f9f1b91a82c65ad94abbdf9f54e6066f968</td>\n",
              "      <td>21</td>\n",
              "      <td>MA</td>\n",
              "      <td>26</td>\n",
              "      <td>F</td>\n",
              "      <td>3</td>\n",
              "      <td>1</td>\n",
              "      <td>1</td>\n",
              "      <td>8</td>\n",
              "      <td>1</td>\n",
              "      <td>NaN</td>\n",
              "      <td>0</td>\n",
              "      <td>NaN</td>\n",
              "      <td>0</td>\n",
              "      <td>0</td>\n",
              "      <td>0</td>\n",
              "      <td>0</td>\n",
              "      <td>0</td>\n",
              "      <td>0</td>\n",
              "      <td>0</td>\n",
              "      <td>0</td>\n",
              "      <td>1</td>\n",
              "      <td>1</td>\n",
              "      <td>1</td>\n",
              "      <td>c8328ebc6f3238e06076c481bc1b82b8301e7a3f</td>\n",
              "      <td>f48d390ab6a2428e659c37fb8a9d00afde621889</td>\n",
              "      <td>72f80e4b3150c627c7ffc93cfe0fa13a9989b610</td>\n",
              "      <td>577f8968d95046f5eb5cc158608e12fa9ba34c85</td>\n",
              "      <td>391.1</td>\n",
              "      <td>491.1</td>\n",
              "      <td>548.0</td>\n",
              "      <td>1</td>\n",
              "      <td>1.0</td>\n",
              "      <td>120.0</td>\n",
              "      <td>120.0</td>\n",
              "      <td>120.0</td>\n",
              "      <td>120.0</td>\n",
              "      <td>100.0</td>\n",
              "      <td>580.0</td>\n",
              "      <td>E</td>\n",
              "      <td>B</td>\n",
              "      <td>C</td>\n",
              "      <td>B</td>\n",
              "      <td>B</td>\n",
              "      <td>B</td>\n",
              "      <td>F</td>\n",
              "      <td>A</td>\n",
              "    </tr>\n",
              "    <tr>\n",
              "      <th>2</th>\n",
              "      <td>b38a03232f43b11c9d0788abaf060f7366053b6d</td>\n",
              "      <td>23</td>\n",
              "      <td>CE</td>\n",
              "      <td>21</td>\n",
              "      <td>M</td>\n",
              "      <td>1</td>\n",
              "      <td>1</td>\n",
              "      <td>2</td>\n",
              "      <td>0</td>\n",
              "      <td>2</td>\n",
              "      <td>3.0</td>\n",
              "      <td>0</td>\n",
              "      <td>2.0</td>\n",
              "      <td>0</td>\n",
              "      <td>0</td>\n",
              "      <td>0</td>\n",
              "      <td>0</td>\n",
              "      <td>0</td>\n",
              "      <td>0</td>\n",
              "      <td>0</td>\n",
              "      <td>0</td>\n",
              "      <td>1</td>\n",
              "      <td>1</td>\n",
              "      <td>1</td>\n",
              "      <td>16f84b7b3d2aeaff7d2f01297e6b3d0e25c77bb2</td>\n",
              "      <td>9cd70f1b922e02bd33453b3f607f5a644fb9b1b8</td>\n",
              "      <td>01af53cd161a420fff1767129c10de560cc264dd</td>\n",
              "      <td>97caab1e1533dba217deb7ef41490f52e459ab01</td>\n",
              "      <td>595.9</td>\n",
              "      <td>622.7</td>\n",
              "      <td>613.6</td>\n",
              "      <td>0</td>\n",
              "      <td>1.0</td>\n",
              "      <td>80.0</td>\n",
              "      <td>40.0</td>\n",
              "      <td>40.0</td>\n",
              "      <td>80.0</td>\n",
              "      <td>80.0</td>\n",
              "      <td>320.0</td>\n",
              "      <td>E</td>\n",
              "      <td>E</td>\n",
              "      <td>D</td>\n",
              "      <td>B</td>\n",
              "      <td>B</td>\n",
              "      <td>A</td>\n",
              "      <td>NaN</td>\n",
              "      <td>A</td>\n",
              "    </tr>\n",
              "    <tr>\n",
              "      <th>3</th>\n",
              "      <td>70b682d9a3636be23f6120fa9d6b164eb3c6002d</td>\n",
              "      <td>15</td>\n",
              "      <td>PA</td>\n",
              "      <td>27</td>\n",
              "      <td>F</td>\n",
              "      <td>3</td>\n",
              "      <td>1</td>\n",
              "      <td>1</td>\n",
              "      <td>8</td>\n",
              "      <td>1</td>\n",
              "      <td>NaN</td>\n",
              "      <td>0</td>\n",
              "      <td>NaN</td>\n",
              "      <td>0</td>\n",
              "      <td>0</td>\n",
              "      <td>0</td>\n",
              "      <td>0</td>\n",
              "      <td>0</td>\n",
              "      <td>0</td>\n",
              "      <td>0</td>\n",
              "      <td>0</td>\n",
              "      <td>0</td>\n",
              "      <td>0</td>\n",
              "      <td>0</td>\n",
              "      <td>2d22ac1d42e6187f09ee6c578df187a760123ccf</td>\n",
              "      <td>2d22ac1d42e6187f09ee6c578df187a760123ccf</td>\n",
              "      <td>2d22ac1d42e6187f09ee6c578df187a760123ccf</td>\n",
              "      <td>2d22ac1d42e6187f09ee6c578df187a760123ccf</td>\n",
              "      <td>NaN</td>\n",
              "      <td>NaN</td>\n",
              "      <td>NaN</td>\n",
              "      <td>0</td>\n",
              "      <td>NaN</td>\n",
              "      <td>NaN</td>\n",
              "      <td>NaN</td>\n",
              "      <td>NaN</td>\n",
              "      <td>NaN</td>\n",
              "      <td>NaN</td>\n",
              "      <td>NaN</td>\n",
              "      <td>H</td>\n",
              "      <td>E</td>\n",
              "      <td>G</td>\n",
              "      <td>B</td>\n",
              "      <td>B</td>\n",
              "      <td>A</td>\n",
              "      <td>NaN</td>\n",
              "      <td>A</td>\n",
              "    </tr>\n",
              "    <tr>\n",
              "      <th>4</th>\n",
              "      <td>715494628a50142ce8cb17191cfe6d0f3cae0934</td>\n",
              "      <td>41</td>\n",
              "      <td>PR</td>\n",
              "      <td>18</td>\n",
              "      <td>M</td>\n",
              "      <td>1</td>\n",
              "      <td>1</td>\n",
              "      <td>2</td>\n",
              "      <td>0</td>\n",
              "      <td>2</td>\n",
              "      <td>1.0</td>\n",
              "      <td>0</td>\n",
              "      <td>2.0</td>\n",
              "      <td>0</td>\n",
              "      <td>0</td>\n",
              "      <td>0</td>\n",
              "      <td>0</td>\n",
              "      <td>0</td>\n",
              "      <td>0</td>\n",
              "      <td>0</td>\n",
              "      <td>0</td>\n",
              "      <td>1</td>\n",
              "      <td>1</td>\n",
              "      <td>1</td>\n",
              "      <td>66b1dad288e13be0992bae01e81f71eca1c6e8a6</td>\n",
              "      <td>942ab3dc020af4cf53740b6b07e9dd7060b24164</td>\n",
              "      <td>5aebe5cad7fabc1545ac7fba07a4e6177f98483c</td>\n",
              "      <td>767a32545304ed293242d528f54d4edb1369f910</td>\n",
              "      <td>592.9</td>\n",
              "      <td>492.6</td>\n",
              "      <td>571.4</td>\n",
              "      <td>1</td>\n",
              "      <td>1.0</td>\n",
              "      <td>100.0</td>\n",
              "      <td>80.0</td>\n",
              "      <td>60.0</td>\n",
              "      <td>80.0</td>\n",
              "      <td>0.0</td>\n",
              "      <td>320.0</td>\n",
              "      <td>D</td>\n",
              "      <td>H</td>\n",
              "      <td>H</td>\n",
              "      <td>C</td>\n",
              "      <td>B</td>\n",
              "      <td>A</td>\n",
              "      <td>NaN</td>\n",
              "      <td>A</td>\n",
              "    </tr>\n",
              "  </tbody>\n",
              "</table>\n",
              "</div>"
            ],
            "text/plain": [
              "                               NU_INSCRICAO  CO_UF_RESIDENCIA  ... Q027  Q047\n",
              "0  73ff9fcc02f0a99919906c942c2e1a1042cdcf98                41  ...    C     A\n",
              "1  71a95f9f1b91a82c65ad94abbdf9f54e6066f968                21  ...    F     A\n",
              "2  b38a03232f43b11c9d0788abaf060f7366053b6d                23  ...  NaN     A\n",
              "3  70b682d9a3636be23f6120fa9d6b164eb3c6002d                15  ...  NaN     A\n",
              "4  715494628a50142ce8cb17191cfe6d0f3cae0934                41  ...  NaN     A\n",
              "\n",
              "[5 rows x 47 columns]"
            ]
          },
          "metadata": {
            "tags": []
          },
          "execution_count": 19
        }
      ]
    },
    {
      "cell_type": "markdown",
      "metadata": {
        "id": "VvYXIVHYfCSY",
        "colab_type": "text"
      },
      "source": [
        "Definindo as mesmas colunas utilizadas para o treino do modelo"
      ]
    },
    {
      "cell_type": "code",
      "metadata": {
        "id": "vmCt2l-dAcGF",
        "colab_type": "code",
        "colab": {}
      },
      "source": [
        "answer1 = answer[['NU_NOTA_CN','NU_NOTA_CH','NU_NOTA_LC','NU_NOTA_REDACAO','NU_NOTA_COMP1','NU_NOTA_COMP2','NU_NOTA_COMP3','NU_NOTA_COMP4','NU_NOTA_COMP5']]"
      ],
      "execution_count": null,
      "outputs": []
    },
    {
      "cell_type": "code",
      "metadata": {
        "id": "6Z3yJvTgBfxI",
        "colab_type": "code",
        "colab": {}
      },
      "source": [
        "answer1 = answer1.fillna(0)"
      ],
      "execution_count": null,
      "outputs": []
    },
    {
      "cell_type": "markdown",
      "metadata": {
        "id": "fWwyOH-8f9wi",
        "colab_type": "text"
      },
      "source": [
        "Conferindo o tamanho das linhas e colunas( 4576 linhas e 47 colunas)"
      ]
    },
    {
      "cell_type": "code",
      "metadata": {
        "id": "-4la1lszBghW",
        "colab_type": "code",
        "colab": {
          "base_uri": "https://localhost:8080/",
          "height": 34
        },
        "outputId": "84bebfd3-7544-4c3a-8354-50ec07b95732"
      },
      "source": [
        "answer.shape"
      ],
      "execution_count": null,
      "outputs": [
        {
          "output_type": "execute_result",
          "data": {
            "text/plain": [
              "(4576, 47)"
            ]
          },
          "metadata": {
            "tags": []
          },
          "execution_count": 22
        }
      ]
    },
    {
      "cell_type": "markdown",
      "metadata": {
        "id": "TB6L1DPvfJsW",
        "colab_type": "text"
      },
      "source": [
        "Aplicando o modelo e prevendo as notas."
      ]
    },
    {
      "cell_type": "code",
      "metadata": {
        "id": "eSAUo4TjDJpq",
        "colab_type": "code",
        "colab": {}
      },
      "source": [
        "previsoes1 = regressor.predict(answer1)"
      ],
      "execution_count": null,
      "outputs": []
    },
    {
      "cell_type": "markdown",
      "metadata": {
        "id": "OQziybwffr9t",
        "colab_type": "text"
      },
      "source": [
        "Agrupando a coluna inscrição e previsão das notas."
      ]
    },
    {
      "cell_type": "code",
      "metadata": {
        "id": "03bG-ZlUCSJF",
        "colab_type": "code",
        "colab": {}
      },
      "source": [
        "resultado = pd.DataFrame()\n",
        "resultado = aswer[['NU_INSCRICAO']].copy()\n",
        "resultado['NU_NOTA_MT'] = previsoes1"
      ],
      "execution_count": null,
      "outputs": []
    },
    {
      "cell_type": "markdown",
      "metadata": {
        "id": "EGNOPj5tf2eY",
        "colab_type": "text"
      },
      "source": [
        "Verificando se há algum valor faltante"
      ]
    },
    {
      "cell_type": "code",
      "metadata": {
        "id": "-5V4oOqQUcTw",
        "colab_type": "code",
        "colab": {
          "base_uri": "https://localhost:8080/",
          "height": 68
        },
        "outputId": "01556c8c-2134-4299-df26-189e6b2e64a7"
      },
      "source": [
        "resultado.isnull().sum()"
      ],
      "execution_count": null,
      "outputs": [
        {
          "output_type": "execute_result",
          "data": {
            "text/plain": [
              "NU_INSCRICAO    0\n",
              "NU_NOTA_MT      0\n",
              "dtype: int64"
            ]
          },
          "metadata": {
            "tags": []
          },
          "execution_count": 25
        }
      ]
    },
    {
      "cell_type": "code",
      "metadata": {
        "id": "l6ftHhXPf67H",
        "colab_type": "code",
        "colab": {}
      },
      "source": [
        "Conferindo o tamanho das linhas e colunas"
      ],
      "execution_count": null,
      "outputs": []
    },
    {
      "cell_type": "code",
      "metadata": {
        "id": "V43aWbYRDzqR",
        "colab_type": "code",
        "colab": {
          "base_uri": "https://localhost:8080/",
          "height": 34
        },
        "outputId": "d62923ec-01e2-4032-e87e-fa40fb4ba1a6"
      },
      "source": [
        "resultado.shape"
      ],
      "execution_count": null,
      "outputs": [
        {
          "output_type": "execute_result",
          "data": {
            "text/plain": [
              "(4576, 2)"
            ]
          },
          "metadata": {
            "tags": []
          },
          "execution_count": 26
        }
      ]
    },
    {
      "cell_type": "markdown",
      "metadata": {
        "id": "jb0TalsLfdxj",
        "colab_type": "text"
      },
      "source": [
        "Verificando as predições"
      ]
    },
    {
      "cell_type": "code",
      "metadata": {
        "id": "yEhnfcDqUjIT",
        "colab_type": "code",
        "colab": {
          "base_uri": "https://localhost:8080/",
          "height": 204
        },
        "outputId": "5796d593-db7b-4256-9bc1-500e35f02762"
      },
      "source": [
        "resultado.head()"
      ],
      "execution_count": null,
      "outputs": [
        {
          "output_type": "execute_result",
          "data": {
            "text/html": [
              "<div>\n",
              "<style scoped>\n",
              "    .dataframe tbody tr th:only-of-type {\n",
              "        vertical-align: middle;\n",
              "    }\n",
              "\n",
              "    .dataframe tbody tr th {\n",
              "        vertical-align: top;\n",
              "    }\n",
              "\n",
              "    .dataframe thead th {\n",
              "        text-align: right;\n",
              "    }\n",
              "</style>\n",
              "<table border=\"1\" class=\"dataframe\">\n",
              "  <thead>\n",
              "    <tr style=\"text-align: right;\">\n",
              "      <th></th>\n",
              "      <th>NU_INSCRICAO</th>\n",
              "      <th>NU_NOTA_MT</th>\n",
              "    </tr>\n",
              "  </thead>\n",
              "  <tbody>\n",
              "    <tr>\n",
              "      <th>0</th>\n",
              "      <td>73ff9fcc02f0a99919906c942c2e1a1042cdcf98</td>\n",
              "      <td>453.523</td>\n",
              "    </tr>\n",
              "    <tr>\n",
              "      <th>1</th>\n",
              "      <td>71a95f9f1b91a82c65ad94abbdf9f54e6066f968</td>\n",
              "      <td>435.729</td>\n",
              "    </tr>\n",
              "    <tr>\n",
              "      <th>2</th>\n",
              "      <td>b38a03232f43b11c9d0788abaf060f7366053b6d</td>\n",
              "      <td>617.028</td>\n",
              "    </tr>\n",
              "    <tr>\n",
              "      <th>3</th>\n",
              "      <td>70b682d9a3636be23f6120fa9d6b164eb3c6002d</td>\n",
              "      <td>0.000</td>\n",
              "    </tr>\n",
              "    <tr>\n",
              "      <th>4</th>\n",
              "      <td>715494628a50142ce8cb17191cfe6d0f3cae0934</td>\n",
              "      <td>505.464</td>\n",
              "    </tr>\n",
              "  </tbody>\n",
              "</table>\n",
              "</div>"
            ],
            "text/plain": [
              "                               NU_INSCRICAO  NU_NOTA_MT\n",
              "0  73ff9fcc02f0a99919906c942c2e1a1042cdcf98     453.523\n",
              "1  71a95f9f1b91a82c65ad94abbdf9f54e6066f968     435.729\n",
              "2  b38a03232f43b11c9d0788abaf060f7366053b6d     617.028\n",
              "3  70b682d9a3636be23f6120fa9d6b164eb3c6002d       0.000\n",
              "4  715494628a50142ce8cb17191cfe6d0f3cae0934     505.464"
            ]
          },
          "metadata": {
            "tags": []
          },
          "execution_count": 27
        }
      ]
    },
    {
      "cell_type": "markdown",
      "metadata": {
        "id": "LTfFccBxfkKV",
        "colab_type": "text"
      },
      "source": [
        "Exportando o arquivo para .csv."
      ]
    },
    {
      "cell_type": "code",
      "metadata": {
        "id": "TULY-zifE9QZ",
        "colab_type": "code",
        "colab": {}
      },
      "source": [
        "resultado.to_csv('answer.csv', index=False)"
      ],
      "execution_count": null,
      "outputs": []
    },
    {
      "cell_type": "markdown",
      "metadata": {
        "id": "gg37UmJPgCYB",
        "colab_type": "text"
      },
      "source": [
        "Com este projeto, o resultado foi de 93,49%, o que garantiu minha vaga na Aceleração."
      ]
    }
  ]
}