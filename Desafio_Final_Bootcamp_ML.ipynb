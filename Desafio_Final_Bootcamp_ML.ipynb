{
  "nbformat": 4,
  "nbformat_minor": 0,
  "metadata": {
    "colab": {
      "name": "Desafio Final Bootcamp ML.ipynb",
      "provenance": [],
      "collapsed_sections": [],
      "mount_file_id": "1C0ota-TFkPNbnKGvjmqvqVWeHtctf2NQ",
      "authorship_tag": "ABX9TyPrKfE1/kx/tUu5k52fsnQG",
      "include_colab_link": true
    },
    "kernelspec": {
      "name": "python3",
      "display_name": "Python 3"
    }
  },
  "cells": [
    {
      "cell_type": "markdown",
      "metadata": {
        "id": "view-in-github",
        "colab_type": "text"
      },
      "source": [
        "<a href=\"https://colab.research.google.com/github/paulohenriquegf/portifolio_DS/blob/master/Desafio_Final_Bootcamp_ML.ipynb\" target=\"_parent\"><img src=\"https://colab.research.google.com/assets/colab-badge.svg\" alt=\"Open In Colab\"/></a>"
      ]
    },
    {
      "cell_type": "markdown",
      "metadata": {
        "id": "8ZykekQuK5Mx",
        "colab_type": "text"
      },
      "source": [
        "**Desafio Final realizado no Bootcamp Analista de Machine Learning do Instituto de Gestão e Tecnologia da Informação**"
      ]
    },
    {
      "cell_type": "markdown",
      "metadata": {
        "id": "0OeGKH3SKywx",
        "colab_type": "text"
      },
      "source": [
        "**Enunciado:**\n",
        "\n",
        "Para todo engenheiro de Machine Learning é fundamental que todos os sete passos para\n",
        "construção de uma solução sejam seguidos. Nesse sentido, saber percorrer todas essas\n",
        "etapas e, ao final, identificar a melhor estratégia, é papel primordial para esse profissional.\n",
        "Neste desafio final vamos empregar boa parte dos conceitos mostrados no decorrer de\n",
        "todos os módulos do bootcamp para a análise e classificação de veículos, do conhecido\n",
        "dataset “cars”. Esse dataset contém um conjunto de informações sobre vários veículos\n",
        "pesquisados. Existem dados, por exemplo, sobre a potência do veículo, sobre a origem e\n",
        "cilindradas cúbicas.\n",
        "\n",
        "Para essa análise vamos empregar os conceitos de redução da dimensionalidade com o\n",
        "PCA, clusterização com o K-Means e classificações com algoritmos supervisionados."
      ]
    },
    {
      "cell_type": "markdown",
      "metadata": {
        "id": "Y3kcfgzPLKF0",
        "colab_type": "text"
      },
      "source": [
        "Importando as bibliotecas que serão utilizadas"
      ]
    },
    {
      "cell_type": "code",
      "metadata": {
        "id": "7MzkpaqlSjuc",
        "colab_type": "code",
        "colab": {}
      },
      "source": [
        "import pandas as pd\n",
        "import numpy as np\n",
        "import seaborn as sns\n",
        "import matplotlib.pyplot as plt\n",
        "\n",
        "from sklearn.preprocessing import StandardScaler\n",
        "from sklearn.decomposition import PCA\n",
        "from sklearn.cluster import KMeans\n",
        "from sklearn.model_selection import train_test_split\n",
        "from sklearn.tree import DecisionTreeClassifier\n",
        "from sklearn.metrics import classification_report, plot_confusion_matrix\n",
        "from sklearn.linear_model import LogisticRegression\n"
      ],
      "execution_count": null,
      "outputs": []
    },
    {
      "cell_type": "markdown",
      "metadata": {
        "id": "eEJNgKSuL23z",
        "colab_type": "text"
      },
      "source": [
        "Importando o dataset que será utilizado"
      ]
    },
    {
      "cell_type": "code",
      "metadata": {
        "id": "USf9oo9fTJp7",
        "colab_type": "code",
        "colab": {}
      },
      "source": [
        "df = pd.read_csv('/content/drive/My Drive/Data Science/IGTI Bootcamp/Modulo 5 - Desafio Final/cars.csv')"
      ],
      "execution_count": null,
      "outputs": []
    },
    {
      "cell_type": "markdown",
      "metadata": {
        "id": "DXc_AcJ9L6h7",
        "colab_type": "text"
      },
      "source": [
        "Conferindo as 5 primeiras linhas "
      ]
    },
    {
      "cell_type": "code",
      "metadata": {
        "id": "FDh2_5pnTTq-",
        "colab_type": "code",
        "colab": {
          "base_uri": "https://localhost:8080/",
          "height": 197
        },
        "outputId": "ea464455-cbca-4df7-fedf-b5a2f0431403"
      },
      "source": [
        "df.head()"
      ],
      "execution_count": null,
      "outputs": [
        {
          "output_type": "execute_result",
          "data": {
            "text/html": [
              "<div>\n",
              "<style scoped>\n",
              "    .dataframe tbody tr th:only-of-type {\n",
              "        vertical-align: middle;\n",
              "    }\n",
              "\n",
              "    .dataframe tbody tr th {\n",
              "        vertical-align: top;\n",
              "    }\n",
              "\n",
              "    .dataframe thead th {\n",
              "        text-align: right;\n",
              "    }\n",
              "</style>\n",
              "<table border=\"1\" class=\"dataframe\">\n",
              "  <thead>\n",
              "    <tr style=\"text-align: right;\">\n",
              "      <th></th>\n",
              "      <th>mpg</th>\n",
              "      <th>cylinders</th>\n",
              "      <th>cubicinches</th>\n",
              "      <th>hp</th>\n",
              "      <th>weightlbs</th>\n",
              "      <th>time-to-60</th>\n",
              "      <th>year</th>\n",
              "      <th>brand</th>\n",
              "    </tr>\n",
              "  </thead>\n",
              "  <tbody>\n",
              "    <tr>\n",
              "      <th>0</th>\n",
              "      <td>14.0</td>\n",
              "      <td>8</td>\n",
              "      <td>350</td>\n",
              "      <td>165</td>\n",
              "      <td>4209</td>\n",
              "      <td>12</td>\n",
              "      <td>1972</td>\n",
              "      <td>US.</td>\n",
              "    </tr>\n",
              "    <tr>\n",
              "      <th>1</th>\n",
              "      <td>31.9</td>\n",
              "      <td>4</td>\n",
              "      <td>89</td>\n",
              "      <td>71</td>\n",
              "      <td>1925</td>\n",
              "      <td>14</td>\n",
              "      <td>1980</td>\n",
              "      <td>Europe.</td>\n",
              "    </tr>\n",
              "    <tr>\n",
              "      <th>2</th>\n",
              "      <td>17.0</td>\n",
              "      <td>8</td>\n",
              "      <td>302</td>\n",
              "      <td>140</td>\n",
              "      <td>3449</td>\n",
              "      <td>11</td>\n",
              "      <td>1971</td>\n",
              "      <td>US.</td>\n",
              "    </tr>\n",
              "    <tr>\n",
              "      <th>3</th>\n",
              "      <td>15.0</td>\n",
              "      <td>8</td>\n",
              "      <td>400</td>\n",
              "      <td>150</td>\n",
              "      <td>3761</td>\n",
              "      <td>10</td>\n",
              "      <td>1971</td>\n",
              "      <td>US.</td>\n",
              "    </tr>\n",
              "    <tr>\n",
              "      <th>4</th>\n",
              "      <td>30.5</td>\n",
              "      <td>4</td>\n",
              "      <td>98</td>\n",
              "      <td>63</td>\n",
              "      <td>2051</td>\n",
              "      <td>17</td>\n",
              "      <td>1978</td>\n",
              "      <td>US.</td>\n",
              "    </tr>\n",
              "  </tbody>\n",
              "</table>\n",
              "</div>"
            ],
            "text/plain": [
              "    mpg  cylinders cubicinches   hp weightlbs  time-to-60  year     brand\n",
              "0  14.0          8         350  165      4209          12  1972       US.\n",
              "1  31.9          4          89   71      1925          14  1980   Europe.\n",
              "2  17.0          8         302  140      3449          11  1971       US.\n",
              "3  15.0          8         400  150      3761          10  1971       US.\n",
              "4  30.5          4          98   63      2051          17  1978       US."
            ]
          },
          "metadata": {
            "tags": []
          },
          "execution_count": 4
        }
      ]
    },
    {
      "cell_type": "markdown",
      "metadata": {
        "id": "TNskqIqLNM9G",
        "colab_type": "text"
      },
      "source": [
        "Conferindo o tamanho do dataset, possui 261 linhas e 8 colunas"
      ]
    },
    {
      "cell_type": "code",
      "metadata": {
        "id": "X6I0x8nWNKXz",
        "colab_type": "code",
        "colab": {
          "base_uri": "https://localhost:8080/",
          "height": 34
        },
        "outputId": "59ffa371-f3be-4f69-96f5-5efda618fc88"
      },
      "source": [
        "df.shape"
      ],
      "execution_count": null,
      "outputs": [
        {
          "output_type": "execute_result",
          "data": {
            "text/plain": [
              "(261, 8)"
            ]
          },
          "metadata": {
            "tags": []
          },
          "execution_count": 5
        }
      ]
    },
    {
      "cell_type": "markdown",
      "metadata": {
        "id": "RZ7UKzFkL99M",
        "colab_type": "text"
      },
      "source": [
        "Maiores informações do dataset"
      ]
    },
    {
      "cell_type": "code",
      "metadata": {
        "id": "-uZpAM_qTUYE",
        "colab_type": "code",
        "colab": {
          "base_uri": "https://localhost:8080/",
          "height": 283
        },
        "outputId": "b2dbeea9-3737-4b32-aaba-b4bde97b125b"
      },
      "source": [
        "df.info()"
      ],
      "execution_count": null,
      "outputs": [
        {
          "output_type": "stream",
          "text": [
            "<class 'pandas.core.frame.DataFrame'>\n",
            "RangeIndex: 261 entries, 0 to 260\n",
            "Data columns (total 8 columns):\n",
            " #   Column       Non-Null Count  Dtype  \n",
            "---  ------       --------------  -----  \n",
            " 0   mpg          261 non-null    float64\n",
            " 1   cylinders    261 non-null    int64  \n",
            " 2   cubicinches  261 non-null    object \n",
            " 3   hp           261 non-null    int64  \n",
            " 4   weightlbs    261 non-null    object \n",
            " 5   time-to-60   261 non-null    int64  \n",
            " 6   year         261 non-null    int64  \n",
            " 7   brand        261 non-null    object \n",
            "dtypes: float64(1), int64(4), object(3)\n",
            "memory usage: 16.4+ KB\n"
          ],
          "name": "stdout"
        }
      ]
    },
    {
      "cell_type": "markdown",
      "metadata": {
        "id": "TA2Kqbq_Ntwz",
        "colab_type": "text"
      },
      "source": [
        "1 - ***Após a utilização da biblioteca pandas para a leitura dos dados sobre os valores lidos, é CORRETO afirmar:***\n",
        "\n",
        "*Resposta: Não foram encontrados valores nulos após a leitura dos dados.*"
      ]
    },
    {
      "cell_type": "markdown",
      "metadata": {
        "id": "yrQeSWBOMCHK",
        "colab_type": "text"
      },
      "source": [
        "Conferindo se existe algum valor faltante"
      ]
    },
    {
      "cell_type": "code",
      "metadata": {
        "id": "txUdibtpTZQQ",
        "colab_type": "code",
        "colab": {
          "base_uri": "https://localhost:8080/",
          "height": 176
        },
        "outputId": "01507997-99a0-4125-80ad-2dce005104d7"
      },
      "source": [
        "df.isnull().sum()"
      ],
      "execution_count": null,
      "outputs": [
        {
          "output_type": "execute_result",
          "data": {
            "text/plain": [
              "mpg            0\n",
              "cylinders      0\n",
              "cubicinches    0\n",
              "hp             0\n",
              "weightlbs      0\n",
              "time-to-60     0\n",
              "year           0\n",
              "brand          0\n",
              "dtype: int64"
            ]
          },
          "metadata": {
            "tags": []
          },
          "execution_count": 14
        }
      ]
    },
    {
      "cell_type": "markdown",
      "metadata": {
        "id": "1cRTWBu0N9C4",
        "colab_type": "text"
      },
      "source": [
        "2 - **Realize a transformação das colunas “cubicinches” e “weightlbs” do tipo “string” para o tipo numérico utilizando o pd.to_numeric(), utilizando o parâmetro errors='coerce'. Após essa transformação é CORRETO afirmar:**\n",
        "\n",
        "*Resposta: Essa transformação adiciona valores nulos ao nosso dataset.*"
      ]
    },
    {
      "cell_type": "markdown",
      "metadata": {
        "id": "x6fEiflUMGmD",
        "colab_type": "text"
      },
      "source": [
        "Transformando a coluna 'cubicinches' e 'weightlbs' em númericas"
      ]
    },
    {
      "cell_type": "code",
      "metadata": {
        "id": "429_cpe6TdB5",
        "colab_type": "code",
        "colab": {}
      },
      "source": [
        "df['cubicinches'] = pd.to_numeric(df['cubicinches'], errors='coerce')\n",
        "df['weightlbs'] = pd.to_numeric(df['weightlbs'], errors='coerce')"
      ],
      "execution_count": null,
      "outputs": []
    },
    {
      "cell_type": "markdown",
      "metadata": {
        "id": "bsARGykHMNhw",
        "colab_type": "text"
      },
      "source": [
        "Após a conversão, agora existem valores nulos"
      ]
    },
    {
      "cell_type": "code",
      "metadata": {
        "id": "aJr3QrYvUX3s",
        "colab_type": "code",
        "colab": {
          "base_uri": "https://localhost:8080/",
          "height": 176
        },
        "outputId": "6a60ff84-8d02-4304-fd3c-9153416d6099"
      },
      "source": [
        "df.isnull().sum()"
      ],
      "execution_count": null,
      "outputs": [
        {
          "output_type": "execute_result",
          "data": {
            "text/plain": [
              "mpg            0\n",
              "cylinders      0\n",
              "cubicinches    2\n",
              "hp             0\n",
              "weightlbs      3\n",
              "time-to-60     0\n",
              "year           0\n",
              "brand          0\n",
              "dtype: int64"
            ]
          },
          "metadata": {
            "tags": []
          },
          "execution_count": 16
        }
      ]
    },
    {
      "cell_type": "markdown",
      "metadata": {
        "id": "D9Z9LYgCOQVq",
        "colab_type": "text"
      },
      "source": [
        "3 - **Indique quais eram os índices dos valores presentes no dataset que “forçaram” o pandas a compreender a variável “cubicinches” como string.**\n",
        "\n",
        "*Resposta: 40 e 180*"
      ]
    },
    {
      "cell_type": "code",
      "metadata": {
        "id": "BubWyvz0PR3A",
        "colab_type": "code",
        "colab": {
          "base_uri": "https://localhost:8080/",
          "height": 34
        },
        "outputId": "74b9e6d7-bc68-4bc6-9684-9cf0c22b87ce"
      },
      "source": [
        "np.where(df['cubicinches'].isnull())"
      ],
      "execution_count": null,
      "outputs": [
        {
          "output_type": "execute_result",
          "data": {
            "text/plain": [
              "(array([ 40, 180]),)"
            ]
          },
          "metadata": {
            "tags": []
          },
          "execution_count": 32
        }
      ]
    },
    {
      "cell_type": "markdown",
      "metadata": {
        "id": "VHISyXXePggp",
        "colab_type": "text"
      },
      "source": [
        "4 - **Após a transformação das variáveis “string” para os valores numéricos, quantos valores nulos (células no dataframe) passaram a existir no dataset?**\n",
        "\n",
        "*Resposta: 5*"
      ]
    },
    {
      "cell_type": "code",
      "metadata": {
        "id": "EjnHVQmqP5CH",
        "colab_type": "code",
        "colab": {
          "base_uri": "https://localhost:8080/",
          "height": 34
        },
        "outputId": "6000fa35-f447-480b-beac-1bd5f3060b6d"
      },
      "source": [
        "df.isnull().sum().sum()"
      ],
      "execution_count": null,
      "outputs": [
        {
          "output_type": "execute_result",
          "data": {
            "text/plain": [
              "5"
            ]
          },
          "metadata": {
            "tags": []
          },
          "execution_count": 39
        }
      ]
    },
    {
      "cell_type": "markdown",
      "metadata": {
        "id": "Z-rCKgoIP0vR",
        "colab_type": "text"
      },
      "source": [
        "5 - **Substitua os valores nulos introduzidos no dataset, após a transformação, pelo valor médio das colunas. Qual é o novo valor médio da coluna “weightlbs”?**\n",
        "\n",
        "*Resposta: 3009,83. *"
      ]
    },
    {
      "cell_type": "markdown",
      "metadata": {
        "id": "J7tT139aY94f",
        "colab_type": "text"
      },
      "source": [
        "Preenchendo valores nulos com a média das respectivas colunas"
      ]
    },
    {
      "cell_type": "code",
      "metadata": {
        "id": "j-LAMQKDYa7Y",
        "colab_type": "code",
        "colab": {}
      },
      "source": [
        "df['cubicinches'].fillna(df['cubicinches'].mean(), inplace = True)\n",
        "df['weightlbs'].fillna(df['weightlbs'].mean(), inplace = True)"
      ],
      "execution_count": null,
      "outputs": []
    },
    {
      "cell_type": "markdown",
      "metadata": {
        "id": "KINnrAQcZB_u",
        "colab_type": "text"
      },
      "source": [
        "Verificando a média da coluna 'weightlbs'"
      ]
    },
    {
      "cell_type": "code",
      "metadata": {
        "id": "zhkVTbh5Yyi6",
        "colab_type": "code",
        "colab": {
          "base_uri": "https://localhost:8080/",
          "height": 34
        },
        "outputId": "26c26938-baf0-44f2-a079-c08318de0739"
      },
      "source": [
        "df['weightlbs'].mean()"
      ],
      "execution_count": null,
      "outputs": [
        {
          "output_type": "execute_result",
          "data": {
            "text/plain": [
              "3009.8333333333335"
            ]
          },
          "metadata": {
            "tags": []
          },
          "execution_count": 41
        }
      ]
    },
    {
      "cell_type": "markdown",
      "metadata": {
        "id": "I0fYniO4ZEsM",
        "colab_type": "text"
      },
      "source": [
        "Verificando se ainda existe algum valor faltante"
      ]
    },
    {
      "cell_type": "code",
      "metadata": {
        "id": "ATF_4WocY4eL",
        "colab_type": "code",
        "colab": {
          "base_uri": "https://localhost:8080/",
          "height": 176
        },
        "outputId": "46e6ec44-b4c4-47b5-d7a0-24d0e097c1ce"
      },
      "source": [
        "df.isnull().sum()"
      ],
      "execution_count": null,
      "outputs": [
        {
          "output_type": "execute_result",
          "data": {
            "text/plain": [
              "mpg            0\n",
              "cylinders      0\n",
              "cubicinches    0\n",
              "hp             0\n",
              "weightlbs      0\n",
              "time-to-60     0\n",
              "year           0\n",
              "brand          0\n",
              "dtype: int64"
            ]
          },
          "metadata": {
            "tags": []
          },
          "execution_count": 42
        }
      ]
    },
    {
      "cell_type": "markdown",
      "metadata": {
        "id": "vzXtc_yjQmXM",
        "colab_type": "text"
      },
      "source": [
        "6 - **Após substituir os valores nulos pela média das colunas, selecione as colunas ['mpg', 'cylinders', 'cubicinches', 'hp', 'weightlbs', 'time-to-60', 'year']. Qual é o valor da mediana para a característica 'mpg'?**\n",
        "\n",
        "*Resposta:  22,0*"
      ]
    },
    {
      "cell_type": "code",
      "metadata": {
        "id": "P3HDegbrQxVx",
        "colab_type": "code",
        "colab": {}
      },
      "source": [
        "df_int = df[['mpg', 'cylinders', 'cubicinches', 'hp', 'weightlbs', 'time-to-60', 'year']]"
      ],
      "execution_count": null,
      "outputs": []
    },
    {
      "cell_type": "code",
      "metadata": {
        "id": "hdf1uX2SQ2-Z",
        "colab_type": "code",
        "colab": {
          "base_uri": "https://localhost:8080/",
          "height": 287
        },
        "outputId": "45698924-8681-46cc-b34e-0ed6cd077f6b"
      },
      "source": [
        "df_int.describe()"
      ],
      "execution_count": null,
      "outputs": [
        {
          "output_type": "execute_result",
          "data": {
            "text/html": [
              "<div>\n",
              "<style scoped>\n",
              "    .dataframe tbody tr th:only-of-type {\n",
              "        vertical-align: middle;\n",
              "    }\n",
              "\n",
              "    .dataframe tbody tr th {\n",
              "        vertical-align: top;\n",
              "    }\n",
              "\n",
              "    .dataframe thead th {\n",
              "        text-align: right;\n",
              "    }\n",
              "</style>\n",
              "<table border=\"1\" class=\"dataframe\">\n",
              "  <thead>\n",
              "    <tr style=\"text-align: right;\">\n",
              "      <th></th>\n",
              "      <th>mpg</th>\n",
              "      <th>cylinders</th>\n",
              "      <th>cubicinches</th>\n",
              "      <th>hp</th>\n",
              "      <th>weightlbs</th>\n",
              "      <th>time-to-60</th>\n",
              "      <th>year</th>\n",
              "    </tr>\n",
              "  </thead>\n",
              "  <tbody>\n",
              "    <tr>\n",
              "      <th>count</th>\n",
              "      <td>261.000000</td>\n",
              "      <td>261.000000</td>\n",
              "      <td>261.000000</td>\n",
              "      <td>261.000000</td>\n",
              "      <td>261.000000</td>\n",
              "      <td>261.000000</td>\n",
              "      <td>261.000000</td>\n",
              "    </tr>\n",
              "    <tr>\n",
              "      <th>mean</th>\n",
              "      <td>23.144828</td>\n",
              "      <td>5.590038</td>\n",
              "      <td>200.918919</td>\n",
              "      <td>106.360153</td>\n",
              "      <td>3009.833333</td>\n",
              "      <td>15.547893</td>\n",
              "      <td>1976.819923</td>\n",
              "    </tr>\n",
              "    <tr>\n",
              "      <th>std</th>\n",
              "      <td>7.823570</td>\n",
              "      <td>1.733310</td>\n",
              "      <td>108.837269</td>\n",
              "      <td>40.499959</td>\n",
              "      <td>849.097575</td>\n",
              "      <td>2.910625</td>\n",
              "      <td>3.637696</td>\n",
              "    </tr>\n",
              "    <tr>\n",
              "      <th>min</th>\n",
              "      <td>10.000000</td>\n",
              "      <td>3.000000</td>\n",
              "      <td>68.000000</td>\n",
              "      <td>46.000000</td>\n",
              "      <td>1613.000000</td>\n",
              "      <td>8.000000</td>\n",
              "      <td>1971.000000</td>\n",
              "    </tr>\n",
              "    <tr>\n",
              "      <th>25%</th>\n",
              "      <td>16.900000</td>\n",
              "      <td>4.000000</td>\n",
              "      <td>101.000000</td>\n",
              "      <td>75.000000</td>\n",
              "      <td>2254.000000</td>\n",
              "      <td>14.000000</td>\n",
              "      <td>1974.000000</td>\n",
              "    </tr>\n",
              "    <tr>\n",
              "      <th>50%</th>\n",
              "      <td>22.000000</td>\n",
              "      <td>6.000000</td>\n",
              "      <td>156.000000</td>\n",
              "      <td>95.000000</td>\n",
              "      <td>2904.000000</td>\n",
              "      <td>16.000000</td>\n",
              "      <td>1977.000000</td>\n",
              "    </tr>\n",
              "    <tr>\n",
              "      <th>75%</th>\n",
              "      <td>28.800000</td>\n",
              "      <td>8.000000</td>\n",
              "      <td>302.000000</td>\n",
              "      <td>138.000000</td>\n",
              "      <td>3664.000000</td>\n",
              "      <td>17.000000</td>\n",
              "      <td>1980.000000</td>\n",
              "    </tr>\n",
              "    <tr>\n",
              "      <th>max</th>\n",
              "      <td>46.600000</td>\n",
              "      <td>8.000000</td>\n",
              "      <td>455.000000</td>\n",
              "      <td>230.000000</td>\n",
              "      <td>4997.000000</td>\n",
              "      <td>25.000000</td>\n",
              "      <td>1983.000000</td>\n",
              "    </tr>\n",
              "  </tbody>\n",
              "</table>\n",
              "</div>"
            ],
            "text/plain": [
              "              mpg   cylinders  ...  time-to-60         year\n",
              "count  261.000000  261.000000  ...  261.000000   261.000000\n",
              "mean    23.144828    5.590038  ...   15.547893  1976.819923\n",
              "std      7.823570    1.733310  ...    2.910625     3.637696\n",
              "min     10.000000    3.000000  ...    8.000000  1971.000000\n",
              "25%     16.900000    4.000000  ...   14.000000  1974.000000\n",
              "50%     22.000000    6.000000  ...   16.000000  1977.000000\n",
              "75%     28.800000    8.000000  ...   17.000000  1980.000000\n",
              "max     46.600000    8.000000  ...   25.000000  1983.000000\n",
              "\n",
              "[8 rows x 7 columns]"
            ]
          },
          "metadata": {
            "tags": []
          },
          "execution_count": 47
        }
      ]
    },
    {
      "cell_type": "markdown",
      "metadata": {
        "id": "Rngc8yaLRGGJ",
        "colab_type": "text"
      },
      "source": [
        "7 - **Qual é a afirmação CORRETA sobre o valor de 14,00 para a variável “time-to-60”?**\n",
        "\n",
        "*Resposta: 75% dos dados são maiores que o valor de 14,00*"
      ]
    },
    {
      "cell_type": "markdown",
      "metadata": {
        "id": "1cD2716BRcTT",
        "colab_type": "text"
      },
      "source": [
        "8 - **Sobre o coeficiente de correlação de Pearson entre as variáveis “cylinders” e “mpg”, é correto afirmar, EXCETO:**\n",
        "\n",
        "*Resposta: Mesmo não sendo igual a 1, é possível dizer que à medida que a variável “cylinders” aumenta, a variável “mpg” também aumenta em uma mesma direção.*"
      ]
    },
    {
      "cell_type": "markdown",
      "metadata": {
        "id": "5ggSHjMBMz8L",
        "colab_type": "text"
      },
      "source": [
        "Conferindo as correlações das colunas"
      ]
    },
    {
      "cell_type": "code",
      "metadata": {
        "id": "QsMGb_ukZ5I0",
        "colab_type": "code",
        "colab": {
          "base_uri": "https://localhost:8080/",
          "height": 257
        },
        "outputId": "808189ce-e4c5-4652-f09e-6fe56f68c4ce"
      },
      "source": [
        "df.corr(method='pearson')"
      ],
      "execution_count": null,
      "outputs": [
        {
          "output_type": "execute_result",
          "data": {
            "text/html": [
              "<div>\n",
              "<style scoped>\n",
              "    .dataframe tbody tr th:only-of-type {\n",
              "        vertical-align: middle;\n",
              "    }\n",
              "\n",
              "    .dataframe tbody tr th {\n",
              "        vertical-align: top;\n",
              "    }\n",
              "\n",
              "    .dataframe thead th {\n",
              "        text-align: right;\n",
              "    }\n",
              "</style>\n",
              "<table border=\"1\" class=\"dataframe\">\n",
              "  <thead>\n",
              "    <tr style=\"text-align: right;\">\n",
              "      <th></th>\n",
              "      <th>mpg</th>\n",
              "      <th>cylinders</th>\n",
              "      <th>cubicinches</th>\n",
              "      <th>hp</th>\n",
              "      <th>weightlbs</th>\n",
              "      <th>time-to-60</th>\n",
              "      <th>year</th>\n",
              "    </tr>\n",
              "  </thead>\n",
              "  <tbody>\n",
              "    <tr>\n",
              "      <th>mpg</th>\n",
              "      <td>1.000000</td>\n",
              "      <td>-0.776710</td>\n",
              "      <td>-0.802379</td>\n",
              "      <td>-0.774905</td>\n",
              "      <td>-0.823800</td>\n",
              "      <td>0.509070</td>\n",
              "      <td>0.550441</td>\n",
              "    </tr>\n",
              "    <tr>\n",
              "      <th>cylinders</th>\n",
              "      <td>-0.776710</td>\n",
              "      <td>1.000000</td>\n",
              "      <td>0.951246</td>\n",
              "      <td>0.845155</td>\n",
              "      <td>0.894447</td>\n",
              "      <td>-0.578161</td>\n",
              "      <td>-0.322239</td>\n",
              "    </tr>\n",
              "    <tr>\n",
              "      <th>cubicinches</th>\n",
              "      <td>-0.802379</td>\n",
              "      <td>0.951246</td>\n",
              "      <td>1.000000</td>\n",
              "      <td>0.906413</td>\n",
              "      <td>0.925288</td>\n",
              "      <td>-0.610679</td>\n",
              "      <td>-0.349743</td>\n",
              "    </tr>\n",
              "    <tr>\n",
              "      <th>hp</th>\n",
              "      <td>-0.774905</td>\n",
              "      <td>0.845155</td>\n",
              "      <td>0.906413</td>\n",
              "      <td>1.000000</td>\n",
              "      <td>0.857125</td>\n",
              "      <td>-0.744873</td>\n",
              "      <td>-0.383869</td>\n",
              "    </tr>\n",
              "    <tr>\n",
              "      <th>weightlbs</th>\n",
              "      <td>-0.823800</td>\n",
              "      <td>0.894447</td>\n",
              "      <td>0.925288</td>\n",
              "      <td>0.857125</td>\n",
              "      <td>1.000000</td>\n",
              "      <td>-0.477240</td>\n",
              "      <td>-0.278683</td>\n",
              "    </tr>\n",
              "    <tr>\n",
              "      <th>time-to-60</th>\n",
              "      <td>0.509070</td>\n",
              "      <td>-0.578161</td>\n",
              "      <td>-0.610679</td>\n",
              "      <td>-0.744873</td>\n",
              "      <td>-0.477240</td>\n",
              "      <td>1.000000</td>\n",
              "      <td>0.312311</td>\n",
              "    </tr>\n",
              "    <tr>\n",
              "      <th>year</th>\n",
              "      <td>0.550441</td>\n",
              "      <td>-0.322239</td>\n",
              "      <td>-0.349743</td>\n",
              "      <td>-0.383869</td>\n",
              "      <td>-0.278683</td>\n",
              "      <td>0.312311</td>\n",
              "      <td>1.000000</td>\n",
              "    </tr>\n",
              "  </tbody>\n",
              "</table>\n",
              "</div>"
            ],
            "text/plain": [
              "                  mpg  cylinders  cubicinches  ...  weightlbs  time-to-60      year\n",
              "mpg          1.000000  -0.776710    -0.802379  ...  -0.823800    0.509070  0.550441\n",
              "cylinders   -0.776710   1.000000     0.951246  ...   0.894447   -0.578161 -0.322239\n",
              "cubicinches -0.802379   0.951246     1.000000  ...   0.925288   -0.610679 -0.349743\n",
              "hp          -0.774905   0.845155     0.906413  ...   0.857125   -0.744873 -0.383869\n",
              "weightlbs   -0.823800   0.894447     0.925288  ...   1.000000   -0.477240 -0.278683\n",
              "time-to-60   0.509070  -0.578161    -0.610679  ...  -0.477240    1.000000  0.312311\n",
              "year         0.550441  -0.322239    -0.349743  ...  -0.278683    0.312311  1.000000\n",
              "\n",
              "[7 rows x 7 columns]"
            ]
          },
          "metadata": {
            "tags": []
          },
          "execution_count": 48
        }
      ]
    },
    {
      "cell_type": "code",
      "metadata": {
        "id": "4pNVOX3uaP-x",
        "colab_type": "code",
        "colab": {
          "base_uri": "https://localhost:8080/",
          "height": 296
        },
        "outputId": "316dfb6f-2bbc-4ee0-9184-c1a5a16fdd39"
      },
      "source": [
        "sns.scatterplot(y='mpg', x='cylinders', data=df)"
      ],
      "execution_count": null,
      "outputs": [
        {
          "output_type": "execute_result",
          "data": {
            "text/plain": [
              "<matplotlib.axes._subplots.AxesSubplot at 0x7f515581ccc0>"
            ]
          },
          "metadata": {
            "tags": []
          },
          "execution_count": 49
        },
        {
          "output_type": "display_data",
          "data": {
            "image/png": "[encoded data removed]",
            "text/plain": [
              "<Figure size 432x288 with 1 Axes>"
            ]
          },
          "metadata": {
            "tags": [],
            "needs_background": "light"
          }
        }
      ]
    },
    {
      "cell_type": "markdown",
      "metadata": {
        "id": "YAlTLDSpRsMQ",
        "colab_type": "text"
      },
      "source": [
        "9 - **Sobre o boxplot da variável “hp”, é correto afirmar, EXCETO:**\n",
        "\n",
        "*Resposta: Existe uma maior dispersão no segundo quartil quando comparamos com o terceiro.*"
      ]
    },
    {
      "cell_type": "code",
      "metadata": {
        "id": "cfThu_afY7eF",
        "colab_type": "code",
        "colab": {
          "base_uri": "https://localhost:8080/",
          "height": 282
        },
        "outputId": "be2f0e14-c3e7-4b5d-8239-c7486c61c05c"
      },
      "source": [
        "df.boxplot('hp')"
      ],
      "execution_count": null,
      "outputs": [
        {
          "output_type": "execute_result",
          "data": {
            "text/plain": [
              "<matplotlib.axes._subplots.AxesSubplot at 0x7f51552e4160>"
            ]
          },
          "metadata": {
            "tags": []
          },
          "execution_count": 50
        },
        {
          "output_type": "display_data",
          "data": {
            "image/png": "[encoded data removed]",
            "text/plain": [
              "<Figure size 432x288 with 1 Axes>"
            ]
          },
          "metadata": {
            "tags": [],
            "needs_background": "light"
          }
        }
      ]
    },
    {
      "cell_type": "markdown",
      "metadata": {
        "id": "MfLhCFzCSG2d",
        "colab_type": "text"
      },
      "source": [
        "10 - **Após normalizado, utilizando a função StandardScaler(), qual é o maior valor para a variável “hp”?**\n",
        "\n",
        "*Resposta: 3.05*"
      ]
    },
    {
      "cell_type": "code",
      "metadata": {
        "id": "U7krV-2pkh3J",
        "colab_type": "code",
        "colab": {}
      },
      "source": [
        "normaliza = StandardScaler()\n",
        "df_scaled = normaliza.fit_transform(df_int)\n"
      ],
      "execution_count": null,
      "outputs": []
    },
    {
      "cell_type": "code",
      "metadata": {
        "id": "GuVrYLZUmQrq",
        "colab_type": "code",
        "colab": {}
      },
      "source": [
        "df_scaled = pd.DataFrame(df_scaled, columns=df_int.columns)"
      ],
      "execution_count": null,
      "outputs": []
    },
    {
      "cell_type": "code",
      "metadata": {
        "id": "n6VkqnALmKcm",
        "colab_type": "code",
        "colab": {
          "base_uri": "https://localhost:8080/",
          "height": 197
        },
        "outputId": "ae3e62b1-10fd-4d5c-8c91-3c27eee43662"
      },
      "source": [
        "df_scaled.head()"
      ],
      "execution_count": null,
      "outputs": [
        {
          "output_type": "execute_result",
          "data": {
            "text/html": [
              "<div>\n",
              "<style scoped>\n",
              "    .dataframe tbody tr th:only-of-type {\n",
              "        vertical-align: middle;\n",
              "    }\n",
              "\n",
              "    .dataframe tbody tr th {\n",
              "        vertical-align: top;\n",
              "    }\n",
              "\n",
              "    .dataframe thead th {\n",
              "        text-align: right;\n",
              "    }\n",
              "</style>\n",
              "<table border=\"1\" class=\"dataframe\">\n",
              "  <thead>\n",
              "    <tr style=\"text-align: right;\">\n",
              "      <th></th>\n",
              "      <th>mpg</th>\n",
              "      <th>cylinders</th>\n",
              "      <th>cubicinches</th>\n",
              "      <th>hp</th>\n",
              "      <th>weightlbs</th>\n",
              "      <th>time-to-60</th>\n",
              "      <th>year</th>\n",
              "    </tr>\n",
              "  </thead>\n",
              "  <tbody>\n",
              "    <tr>\n",
              "      <th>0</th>\n",
              "      <td>-1.171127</td>\n",
              "      <td>1.393053</td>\n",
              "      <td>1.372393</td>\n",
              "      <td>1.450681</td>\n",
              "      <td>1.414997</td>\n",
              "      <td>-1.221287</td>\n",
              "      <td>-1.327539</td>\n",
              "    </tr>\n",
              "    <tr>\n",
              "      <th>1</th>\n",
              "      <td>1.121226</td>\n",
              "      <td>-0.919105</td>\n",
              "      <td>-1.030290</td>\n",
              "      <td>-0.874768</td>\n",
              "      <td>-1.280086</td>\n",
              "      <td>-0.532829</td>\n",
              "      <td>0.875880</td>\n",
              "    </tr>\n",
              "    <tr>\n",
              "      <th>2</th>\n",
              "      <td>-0.786934</td>\n",
              "      <td>1.393053</td>\n",
              "      <td>0.930520</td>\n",
              "      <td>0.832210</td>\n",
              "      <td>0.518209</td>\n",
              "      <td>-1.565516</td>\n",
              "      <td>-1.602966</td>\n",
              "    </tr>\n",
              "    <tr>\n",
              "      <th>3</th>\n",
              "      <td>-1.043063</td>\n",
              "      <td>1.393053</td>\n",
              "      <td>1.832677</td>\n",
              "      <td>1.079598</td>\n",
              "      <td>0.886364</td>\n",
              "      <td>-1.909745</td>\n",
              "      <td>-1.602966</td>\n",
              "    </tr>\n",
              "    <tr>\n",
              "      <th>4</th>\n",
              "      <td>0.941936</td>\n",
              "      <td>-0.919105</td>\n",
              "      <td>-0.947439</td>\n",
              "      <td>-1.072679</td>\n",
              "      <td>-1.131408</td>\n",
              "      <td>0.499857</td>\n",
              "      <td>0.325025</td>\n",
              "    </tr>\n",
              "  </tbody>\n",
              "</table>\n",
              "</div>"
            ],
            "text/plain": [
              "        mpg  cylinders  cubicinches        hp  weightlbs  time-to-60      year\n",
              "0 -1.171127   1.393053     1.372393  1.450681   1.414997   -1.221287 -1.327539\n",
              "1  1.121226  -0.919105    -1.030290 -0.874768  -1.280086   -0.532829  0.875880\n",
              "2 -0.786934   1.393053     0.930520  0.832210   0.518209   -1.565516 -1.602966\n",
              "3 -1.043063   1.393053     1.832677  1.079598   0.886364   -1.909745 -1.602966\n",
              "4  0.941936  -0.919105    -0.947439 -1.072679  -1.131408    0.499857  0.325025"
            ]
          },
          "metadata": {
            "tags": []
          },
          "execution_count": 53
        }
      ]
    },
    {
      "cell_type": "code",
      "metadata": {
        "id": "g303lPAYniCQ",
        "colab_type": "code",
        "colab": {
          "base_uri": "https://localhost:8080/",
          "height": 287
        },
        "outputId": "ab9d63af-1d63-485c-facd-387462e52c67"
      },
      "source": [
        "df_scaled.describe()"
      ],
      "execution_count": null,
      "outputs": [
        {
          "output_type": "execute_result",
          "data": {
            "text/html": [
              "<div>\n",
              "<style scoped>\n",
              "    .dataframe tbody tr th:only-of-type {\n",
              "        vertical-align: middle;\n",
              "    }\n",
              "\n",
              "    .dataframe tbody tr th {\n",
              "        vertical-align: top;\n",
              "    }\n",
              "\n",
              "    .dataframe thead th {\n",
              "        text-align: right;\n",
              "    }\n",
              "</style>\n",
              "<table border=\"1\" class=\"dataframe\">\n",
              "  <thead>\n",
              "    <tr style=\"text-align: right;\">\n",
              "      <th></th>\n",
              "      <th>mpg</th>\n",
              "      <th>cylinders</th>\n",
              "      <th>cubicinches</th>\n",
              "      <th>hp</th>\n",
              "      <th>weightlbs</th>\n",
              "      <th>time-to-60</th>\n",
              "      <th>year</th>\n",
              "    </tr>\n",
              "  </thead>\n",
              "  <tbody>\n",
              "    <tr>\n",
              "      <th>count</th>\n",
              "      <td>2.610000e+02</td>\n",
              "      <td>2.610000e+02</td>\n",
              "      <td>2.610000e+02</td>\n",
              "      <td>2.610000e+02</td>\n",
              "      <td>2.610000e+02</td>\n",
              "      <td>2.610000e+02</td>\n",
              "      <td>2.610000e+02</td>\n",
              "    </tr>\n",
              "    <tr>\n",
              "      <th>mean</th>\n",
              "      <td>3.143505e-16</td>\n",
              "      <td>2.124737e-16</td>\n",
              "      <td>-1.203805e-16</td>\n",
              "      <td>9.831429e-17</td>\n",
              "      <td>-1.648320e-16</td>\n",
              "      <td>-2.043916e-16</td>\n",
              "      <td>-2.605329e-15</td>\n",
              "    </tr>\n",
              "    <tr>\n",
              "      <th>std</th>\n",
              "      <td>1.001921e+00</td>\n",
              "      <td>1.001921e+00</td>\n",
              "      <td>1.001921e+00</td>\n",
              "      <td>1.001921e+00</td>\n",
              "      <td>1.001921e+00</td>\n",
              "      <td>1.001921e+00</td>\n",
              "      <td>1.001921e+00</td>\n",
              "    </tr>\n",
              "    <tr>\n",
              "      <th>min</th>\n",
              "      <td>-1.683385e+00</td>\n",
              "      <td>-1.497144e+00</td>\n",
              "      <td>-1.223609e+00</td>\n",
              "      <td>-1.493239e+00</td>\n",
              "      <td>-1.648240e+00</td>\n",
              "      <td>-2.598203e+00</td>\n",
              "      <td>-1.602966e+00</td>\n",
              "    </tr>\n",
              "    <tr>\n",
              "      <th>25%</th>\n",
              "      <td>-7.997404e-01</td>\n",
              "      <td>-9.191048e-01</td>\n",
              "      <td>-9.198217e-01</td>\n",
              "      <td>-7.758132e-01</td>\n",
              "      <td>-8.918710e-01</td>\n",
              "      <td>-5.328295e-01</td>\n",
              "      <td>-7.766842e-01</td>\n",
              "    </tr>\n",
              "    <tr>\n",
              "      <th>50%</th>\n",
              "      <td>-1.466117e-01</td>\n",
              "      <td>2.369740e-01</td>\n",
              "      <td>-4.135093e-01</td>\n",
              "      <td>-2.810368e-01</td>\n",
              "      <td>-1.248816e-01</td>\n",
              "      <td>1.556284e-01</td>\n",
              "      <td>4.959804e-02</td>\n",
              "    </tr>\n",
              "    <tr>\n",
              "      <th>75%</th>\n",
              "      <td>7.242265e-01</td>\n",
              "      <td>1.393053e+00</td>\n",
              "      <td>9.305202e-01</td>\n",
              "      <td>7.827325e-01</td>\n",
              "      <td>7.719060e-01</td>\n",
              "      <td>4.998573e-01</td>\n",
              "      <td>8.758803e-01</td>\n",
              "    </tr>\n",
              "    <tr>\n",
              "      <th>max</th>\n",
              "      <td>3.003774e+00</td>\n",
              "      <td>1.393053e+00</td>\n",
              "      <td>2.338990e+00</td>\n",
              "      <td>3.058704e+00</td>\n",
              "      <td>2.344824e+00</td>\n",
              "      <td>3.253689e+00</td>\n",
              "      <td>1.702163e+00</td>\n",
              "    </tr>\n",
              "  </tbody>\n",
              "</table>\n",
              "</div>"
            ],
            "text/plain": [
              "                mpg     cylinders  ...    time-to-60          year\n",
              "count  2.610000e+02  2.610000e+02  ...  2.610000e+02  2.610000e+02\n",
              "mean   3.143505e-16  2.124737e-16  ... -2.043916e-16 -2.605329e-15\n",
              "std    1.001921e+00  1.001921e+00  ...  1.001921e+00  1.001921e+00\n",
              "min   -1.683385e+00 -1.497144e+00  ... -2.598203e+00 -1.602966e+00\n",
              "25%   -7.997404e-01 -9.191048e-01  ... -5.328295e-01 -7.766842e-01\n",
              "50%   -1.466117e-01  2.369740e-01  ...  1.556284e-01  4.959804e-02\n",
              "75%    7.242265e-01  1.393053e+00  ...  4.998573e-01  8.758803e-01\n",
              "max    3.003774e+00  1.393053e+00  ...  3.253689e+00  1.702163e+00\n",
              "\n",
              "[8 rows x 7 columns]"
            ]
          },
          "metadata": {
            "tags": []
          },
          "execution_count": 54
        }
      ]
    },
    {
      "cell_type": "markdown",
      "metadata": {
        "id": "ikPV9M_uSezO",
        "colab_type": "text"
      },
      "source": [
        "11 - **Aplicando o PCA, conforme a definição acima, qual é o valor da variância explicada pela primeira componente principal?**\n",
        "\n",
        "*Resposta: 72%*\n"
      ]
    },
    {
      "cell_type": "code",
      "metadata": {
        "id": "2kgyw6y7pSYg",
        "colab_type": "code",
        "colab": {}
      },
      "source": [
        "pca = PCA(n_components=7)\n",
        "df_pca = pca.fit_transform(df_scaled)"
      ],
      "execution_count": null,
      "outputs": []
    },
    {
      "cell_type": "code",
      "metadata": {
        "id": "3VFv8mXwpWBl",
        "colab_type": "code",
        "colab": {
          "base_uri": "https://localhost:8080/",
          "height": 52
        },
        "outputId": "ec2cf814-2d4e-458e-eca2-d86b21caeed7"
      },
      "source": [
        "print(pca.explained_variance_ratio_)"
      ],
      "execution_count": null,
      "outputs": [
        {
          "output_type": "stream",
          "text": [
            "[0.72371349 0.12675138 0.09126131 0.02773591 0.01766794 0.00798425\n",
            " 0.00488572]\n"
          ],
          "name": "stdout"
        }
      ]
    },
    {
      "cell_type": "markdown",
      "metadata": {
        "id": "_iFjkF9Cs6Zz",
        "colab_type": "text"
      },
      "source": [
        "12 - **Utilize os três primeiros componentes principais para construir o K-means com um número de 3 clusters. Sobre os clusters, é INCORRETO afirmar:**\n",
        "\n",
        "*Resposta: Todos os clusters possuem a mesma quantidade de elementos*"
      ]
    },
    {
      "cell_type": "code",
      "metadata": {
        "id": "l9v84sces7rR",
        "colab_type": "code",
        "colab": {
          "base_uri": "https://localhost:8080/",
          "height": 70
        },
        "outputId": "b1e8becc-2114-4ca6-d8ed-5db4420a7bcf"
      },
      "source": [
        "kmeans = KMeans(n_clusters=3,random_state=42)\n",
        "kmeans.fit(df_pca)"
      ],
      "execution_count": null,
      "outputs": [
        {
          "output_type": "execute_result",
          "data": {
            "text/plain": [
              "KMeans(algorithm='auto', copy_x=True, init='k-means++', max_iter=300,\n",
              "       n_clusters=3, n_init=10, n_jobs=None, precompute_distances='auto',\n",
              "       random_state=42, tol=0.0001, verbose=0)"
            ]
          },
          "metadata": {
            "tags": []
          },
          "execution_count": 61
        }
      ]
    },
    {
      "cell_type": "code",
      "metadata": {
        "id": "-k2sWgDUt-Du",
        "colab_type": "code",
        "colab": {
          "base_uri": "https://localhost:8080/",
          "height": 176
        },
        "outputId": "a399c8bc-6ded-4701-e4a7-87a02b82b63f"
      },
      "source": [
        "kmeans.cluster_centers_"
      ],
      "execution_count": null,
      "outputs": [
        {
          "output_type": "execute_result",
          "data": {
            "text/plain": [
              "array([[-2.21903474e-01,  3.35880334e-01,  2.83961966e-01,\n",
              "        -2.67686215e-01, -5.45225710e-02, -4.15058549e-03,\n",
              "         6.49104031e-03],\n",
              "       [-2.21966813e+00, -1.65114484e-01, -1.97903173e-01,\n",
              "         1.41526756e-01,  5.21847434e-02, -6.14922939e-03,\n",
              "        -2.61748230e-02],\n",
              "       [ 3.08082252e+00, -1.98389792e-01, -9.38631667e-02,\n",
              "         1.45525382e-01,  5.33778892e-05,  1.28250676e-02,\n",
              "         2.52789802e-02]])"
            ]
          },
          "metadata": {
            "tags": []
          },
          "execution_count": 62
        }
      ]
    },
    {
      "cell_type": "code",
      "metadata": {
        "id": "18EemMc9uJNO",
        "colab_type": "code",
        "colab": {}
      },
      "source": [
        "distance = kmeans.fit_transform(df_pca)"
      ],
      "execution_count": null,
      "outputs": []
    },
    {
      "cell_type": "markdown",
      "metadata": {
        "id": "ROkI4M1ZTVdq",
        "colab_type": "text"
      },
      "source": [
        "Abaixo o gráfico nos mostra a distância para cada cluster"
      ]
    },
    {
      "cell_type": "code",
      "metadata": {
        "id": "YuedJZJWuB_9",
        "colab_type": "code",
        "colab": {
          "base_uri": "https://localhost:8080/",
          "height": 294
        },
        "outputId": "f78ac146-30e9-4472-925e-3adcea6749bc"
      },
      "source": [
        "x = ['Cluster 0','Cluster 1','Cluster 2']\n",
        "plt.barh(x,distance[0])\n",
        "plt.xlabel('Distância')\n",
        "plt.title('Distância por Clusters ')\n",
        "plt.show()"
      ],
      "execution_count": null,
      "outputs": [
        {
          "output_type": "display_data",
          "data": {
            "image/png": "[encoded data removed]",
            "text/plain": [
              "<Figure size 432x288 with 1 Axes>"
            ]
          },
          "metadata": {
            "tags": [],
            "needs_background": "light"
          }
        }
      ]
    },
    {
      "cell_type": "code",
      "metadata": {
        "id": "r9MZcM1SuV7H",
        "colab_type": "code",
        "colab": {
          "base_uri": "https://localhost:8080/",
          "height": 247
        },
        "outputId": "0df9d2af-3e7b-4dd5-914c-36231e4f81c8"
      },
      "source": [
        "kmeans.labels_"
      ],
      "execution_count": null,
      "outputs": [
        {
          "output_type": "execute_result",
          "data": {
            "text/plain": [
              "array([2, 1, 2, 2, 1, 2, 2, 2, 0, 1, 1, 1, 2, 2, 0, 2, 1, 2, 0, 0, 1, 0,\n",
              "       0, 2, 1, 1, 1, 2, 0, 1, 0, 0, 0, 0, 1, 0, 1, 0, 2, 0, 0, 2, 0, 0,\n",
              "       2, 1, 2, 0, 1, 0, 2, 1, 2, 0, 2, 2, 0, 1, 1, 2, 0, 0, 0, 1, 2, 0,\n",
              "       1, 1, 1, 2, 0, 1, 1, 0, 1, 1, 0, 0, 0, 1, 2, 2, 2, 0, 1, 1, 0, 0,\n",
              "       1, 1, 1, 1, 2, 0, 1, 0, 2, 0, 2, 0, 2, 2, 0, 1, 1, 1, 1, 1, 0, 2,\n",
              "       0, 0, 2, 1, 1, 0, 0, 0, 1, 2, 1, 1, 2, 0, 1, 1, 2, 1, 0, 1, 1, 1,\n",
              "       2, 2, 2, 2, 1, 2, 0, 0, 0, 1, 1, 1, 2, 0, 0, 1, 2, 2, 1, 1, 2, 0,\n",
              "       1, 0, 0, 1, 0, 0, 1, 2, 0, 0, 1, 0, 0, 1, 0, 1, 1, 0, 1, 1, 0, 1,\n",
              "       2, 2, 2, 1, 0, 1, 2, 2, 1, 0, 0, 2, 2, 2, 1, 1, 2, 2, 2, 1, 1, 1,\n",
              "       1, 1, 1, 0, 0, 0, 0, 2, 1, 0, 2, 0, 0, 2, 1, 1, 0, 1, 1, 2, 0, 2,\n",
              "       0, 0, 2, 0, 2, 1, 2, 1, 0, 1, 2, 1, 0, 2, 0, 1, 2, 0, 1, 0, 2, 0,\n",
              "       2, 0, 2, 2, 2, 1, 1, 1, 1, 0, 1, 2, 0, 0, 2, 1, 0, 0, 0],\n",
              "      dtype=int32)"
            ]
          },
          "metadata": {
            "tags": []
          },
          "execution_count": 69
        }
      ]
    },
    {
      "cell_type": "markdown",
      "metadata": {
        "id": "ZddudlC8u6eb",
        "colab_type": "text"
      },
      "source": [
        "13 - **Após todo o processamento realizado nos itens anteriores, crie uma coluna que contenha a variável de eficiência do veículo. Veículos que percorrem mais de 25 milhas com um galão (“mpg”>25) devem ser considerados eficientes. Utilize as colunas ['cylinders' ,'cubicinches' ,'hp' ,'weightlbs','time-to-60'] como entradas e como saída a coluna de eficiência criada. Utilizando a árvore de decisão como mostrado, qual é a acurácia do modelo?**\n",
        "\n",
        "*Resposta: Aproximadamente 0,87.* "
      ]
    },
    {
      "cell_type": "code",
      "metadata": {
        "id": "Boh9UGvLu9MB",
        "colab_type": "code",
        "colab": {}
      },
      "source": [
        "df_scaled['eficiencia'] = np.where(df['mpg'] > 25, 1 , 0)"
      ],
      "execution_count": null,
      "outputs": []
    },
    {
      "cell_type": "code",
      "metadata": {
        "id": "LKg5b2ymxxvu",
        "colab_type": "code",
        "colab": {}
      },
      "source": [
        "X = df_scaled[['cylinders','cubicinches','hp','weightlbs','time-to-60']]\n",
        "y = df_scaled['eficiencia']\n",
        "X_train, X_test, y_train, y_test = train_test_split(X, y, test_size=0.30,random_state=42)"
      ],
      "execution_count": null,
      "outputs": []
    },
    {
      "cell_type": "code",
      "metadata": {
        "id": "y8llYjHbyfsE",
        "colab_type": "code",
        "colab": {}
      },
      "source": [
        "\n",
        "model_dt = DecisionTreeClassifier(random_state=42)\n",
        "model_dt.fit(X_train,y_train)\n",
        "predict = model_dt.predict(X_test)"
      ],
      "execution_count": null,
      "outputs": []
    },
    {
      "cell_type": "code",
      "metadata": {
        "id": "m18fqyiEy41F",
        "colab_type": "code",
        "colab": {
          "base_uri": "https://localhost:8080/",
          "height": 176
        },
        "outputId": "7acd552e-184b-4b8d-8d98-53072b90f45c"
      },
      "source": [
        "print(classification_report(y_test, predict))"
      ],
      "execution_count": null,
      "outputs": [
        {
          "output_type": "stream",
          "text": [
            "              precision    recall  f1-score   support\n",
            "\n",
            "           0       0.94      0.80      0.87        41\n",
            "           1       0.82      0.95      0.88        38\n",
            "\n",
            "    accuracy                           0.87        79\n",
            "   macro avg       0.88      0.88      0.87        79\n",
            "weighted avg       0.88      0.87      0.87        79\n",
            "\n"
          ],
          "name": "stdout"
        }
      ]
    },
    {
      "cell_type": "code",
      "metadata": {
        "id": "2HO5-WRQUdWU",
        "colab_type": "code",
        "colab": {
          "base_uri": "https://localhost:8080/",
          "height": 296
        },
        "outputId": "1023d449-c7a0-4465-b404-62a64ebb4843"
      },
      "source": [
        "plot_confusion_matrix(model_dt, X_test, y_test)"
      ],
      "execution_count": null,
      "outputs": [
        {
          "output_type": "execute_result",
          "data": {
            "text/plain": [
              "<sklearn.metrics._plot.confusion_matrix.ConfusionMatrixDisplay at 0x7f5154fba128>"
            ]
          },
          "metadata": {
            "tags": []
          },
          "execution_count": 80
        },
        {
          "output_type": "display_data",
          "data": {
            "image/png": "[encoded data removed]",
            "text/plain": [
              "<Figure size 432x288 with 2 Axes>"
            ]
          },
          "metadata": {
            "tags": [],
            "needs_background": "light"
          }
        }
      ]
    },
    {
      "cell_type": "markdown",
      "metadata": {
        "id": "HfilfLBoU-Af",
        "colab_type": "text"
      },
      "source": [
        "14 - **Sobre a matriz de confusão obtida após a aplicação da árvore de decisão, como mostrado anteriormente, é INCORRETO afirmar:**\n",
        "\n",
        "*Resposta: Existem duas vezes mais veículos considerados não eficientes que instâncias de veículos eficientes.*"
      ]
    },
    {
      "cell_type": "markdown",
      "metadata": {
        "id": "Y0r3mK7_1JdW",
        "colab_type": "text"
      },
      "source": [
        "15 - **Utilizando a mesma divisão de dados entre treinamento e teste empregada para a análise anterior, aplique o modelo de regressão logística como mostrado na descrição do trabalho. Comparando os resultados obtidos com o modelo de árvore de decisão, é INCORRETO afirmar:**\n",
        "\n",
        "*Resposta: A regressão logística não deveria ser aplicada ao problema, pois ela trabalha apenas com dados categóricos.*"
      ]
    },
    {
      "cell_type": "code",
      "metadata": {
        "id": "UMyApPsV1SA-",
        "colab_type": "code",
        "colab": {}
      },
      "source": [
        "model_lr = LogisticRegression(random_state=42)\n",
        "model_lr.fit(X_train,y_train)\n",
        "predict = model_lr.predict(X_test)"
      ],
      "execution_count": null,
      "outputs": []
    },
    {
      "cell_type": "code",
      "metadata": {
        "id": "jJYCMDf11fYa",
        "colab_type": "code",
        "colab": {
          "base_uri": "https://localhost:8080/",
          "height": 176
        },
        "outputId": "469e4b5f-3cda-436e-d72c-dc97d371743a"
      },
      "source": [
        "print(classification_report(y_test, predict))"
      ],
      "execution_count": null,
      "outputs": [
        {
          "output_type": "stream",
          "text": [
            "              precision    recall  f1-score   support\n",
            "\n",
            "           0       0.86      0.88      0.87        41\n",
            "           1       0.86      0.84      0.85        38\n",
            "\n",
            "    accuracy                           0.86        79\n",
            "   macro avg       0.86      0.86      0.86        79\n",
            "weighted avg       0.86      0.86      0.86        79\n",
            "\n"
          ],
          "name": "stdout"
        }
      ]
    },
    {
      "cell_type": "code",
      "metadata": {
        "id": "BOp2E5y71kW8",
        "colab_type": "code",
        "colab": {
          "base_uri": "https://localhost:8080/",
          "height": 296
        },
        "outputId": "5d4e1719-7cbf-4ca6-d20d-ab1f0659c1dc"
      },
      "source": [
        "plot_confusion_matrix(model_lr, X_test, y_test)"
      ],
      "execution_count": null,
      "outputs": [
        {
          "output_type": "execute_result",
          "data": {
            "text/plain": [
              "<sklearn.metrics._plot.confusion_matrix.ConfusionMatrixDisplay at 0x7f515576f080>"
            ]
          },
          "metadata": {
            "tags": []
          },
          "execution_count": 83
        },
        {
          "output_type": "display_data",
          "data": {
            "image/png": "[encoded data removed]",
            "text/plain": [
              "<Figure size 432x288 with 2 Axes>"
            ]
          },
          "metadata": {
            "tags": [],
            "needs_background": "light"
          }
        }
      ]
    }
  ]
}